{
 "cells": [
  {
   "cell_type": "code",
   "execution_count": 51,
   "id": "ddc89959-473d-4cd8-a0ee-6f4746219d95",
   "metadata": {},
   "outputs": [],
   "source": [
    "import uuid\n",
    "\n",
    "import pandas as pd"
   ]
  },
  {
   "cell_type": "code",
   "execution_count": 52,
   "id": "bdc40e2b-b173-4a5f-979a-1205b1d69546",
   "metadata": {},
   "outputs": [],
   "source": [
    "draft_df = pd.read_excel('data/anketa_2.xlsx')"
   ]
  },
  {
   "cell_type": "markdown",
   "id": "00ace26d",
   "metadata": {},
   "source": [
    "# Предварительная подготовка таблиц #"
   ]
  },
  {
   "cell_type": "code",
   "execution_count": 53,
   "id": "21c821a3-ea0e-4687-be6c-915e9c31b372",
   "metadata": {},
   "outputs": [
    {
     "name": "stdout",
     "output_type": "stream",
     "text": [
      "<class 'pandas.core.frame.DataFrame'>\n",
      "RangeIndex: 322 entries, 0 to 321\n",
      "Data columns (total 13 columns):\n",
      " #   Column                                                            Non-Null Count  Dtype         \n",
      "---  ------                                                            --------------  -----         \n",
      " 0   Отметка времени                                                   320 non-null    datetime64[ns]\n",
      " 1   Профиль телеграмм (в формате @username)                           321 non-null    object        \n",
      " 2   Часовой пояс                                                      322 non-null    object        \n",
      " 3   Стек технологий                                                   321 non-null    object        \n",
      " 4   По какой специальности SF хотите заявиться?                       322 non-null    object        \n",
      " 5   Роль                                                              322 non-null    object        \n",
      " 6   В какой роли видите себя в проекте?                               322 non-null    object        \n",
      " 7   Сколько часов в неделю готовы уделять проекту?                    322 non-null    object        \n",
      " 8   Какие другие курсы закончили или находитесь в процессе обучения?  322 non-null    object        \n",
      " 9   Как долго учитесь на курсах?                                      322 non-null    object        \n",
      " 10  Notes                                                             99 non-null     object        \n",
      " 11  ЯП                                                                205 non-null    object        \n",
      " 12  Вступление в чат практики.                                        322 non-null    object        \n",
      "dtypes: datetime64[ns](1), object(12)\n",
      "memory usage: 32.8+ KB\n"
     ]
    },
    {
     "data": {
      "text/plain": [
       "None"
      ]
     },
     "metadata": {},
     "output_type": "display_data"
    }
   ],
   "source": [
    "display(draft_df.info())"
   ]
  },
  {
   "cell_type": "markdown",
   "id": "2a6c837b",
   "metadata": {},
   "source": [
    "#### Переименование признаков для размещения таблиц в БД ####"
   ]
  },
  {
   "cell_type": "code",
   "execution_count": 54,
   "id": "c8cc9b78",
   "metadata": {},
   "outputs": [
    {
     "name": "stdout",
     "output_type": "stream",
     "text": [
      "<class 'pandas.core.frame.DataFrame'>\n",
      "RangeIndex: 322 entries, 0 to 321\n",
      "Data columns (total 13 columns):\n",
      " #   Column        Non-Null Count  Dtype         \n",
      "---  ------        --------------  -----         \n",
      " 0   date          320 non-null    datetime64[ns]\n",
      " 1   tg_id         321 non-null    object        \n",
      " 2   timezone      322 non-null    object        \n",
      " 3   stack         321 non-null    object        \n",
      " 4   occupation    322 non-null    object        \n",
      " 5   role          322 non-null    object        \n",
      " 6   project_role  322 non-null    object        \n",
      " 7   weekload      322 non-null    object        \n",
      " 8   course        322 non-null    object        \n",
      " 9   course_time   322 non-null    object        \n",
      " 10  notes         99 non-null     object        \n",
      " 11  pl            205 non-null    object        \n",
      " 12  chat          322 non-null    object        \n",
      "dtypes: datetime64[ns](1), object(12)\n",
      "memory usage: 32.8+ KB\n"
     ]
    }
   ],
   "source": [
    "old_cols = [\n",
    "    'Отметка времени',\n",
    "    'Профиль телеграмм (в формате @username)',\n",
    "    'Часовой пояс',\n",
    "    'Стек технологий',\n",
    "    'По какой специальности SF хотите заявиться?',\n",
    "    'Роль',\n",
    "    'В какой роли видите себя в проекте?',\n",
    "    'Сколько часов в неделю готовы уделять проекту?',\n",
    "    'Какие другие курсы закончили или находитесь в процессе обучения?',\n",
    "    'Как долго учитесь на курсах?',\n",
    "    'Notes',\n",
    "    'ЯП',\n",
    "    'Вступление в чат практики.'\n",
    "]\n",
    "new_cols = [\n",
    "    'date',\n",
    "    'tg_id',\n",
    "    'timezone',\n",
    "    'stack',\n",
    "    'occupation',\n",
    "    'role',\n",
    "    'project_role',\n",
    "    'weekload',\n",
    "    'course',\n",
    "    'course_time',\n",
    "    'notes',\n",
    "    'pl',\n",
    "    'chat'\n",
    "]\n",
    "\n",
    "def map_names(old_list: list, new_list: list) -> dict:\n",
    "    dict_ = dict()\n",
    "    if len(old_list) == len(new_list):\n",
    "        for old_name, new_name in zip(old_list, new_list):\n",
    "            dict_[old_name] = new_name\n",
    "    return dict_\n",
    "\n",
    "draft_df.rename(columns=map_names(old_cols, new_cols), inplace=True)\n",
    "draft_df.info()"
   ]
  },
  {
   "cell_type": "markdown",
   "id": "e16cae10",
   "metadata": {},
   "source": [
    "#### Контроль пустых мест ####"
   ]
  },
  {
   "cell_type": "code",
   "execution_count": 55,
   "id": "d9a59107",
   "metadata": {},
   "outputs": [
    {
     "data": {
      "text/plain": [
       "date              2\n",
       "tg_id             1\n",
       "timezone          0\n",
       "stack             1\n",
       "occupation        0\n",
       "role              0\n",
       "project_role      0\n",
       "weekload          0\n",
       "course            0\n",
       "course_time       0\n",
       "notes           223\n",
       "pl              117\n",
       "chat              0\n",
       "dtype: int64"
      ]
     },
     "metadata": {},
     "output_type": "display_data"
    }
   ],
   "source": [
    "display(draft_df.isna().sum(axis='index'))"
   ]
  },
  {
   "cell_type": "code",
   "execution_count": 56,
   "id": "3aded0e6",
   "metadata": {},
   "outputs": [
    {
     "data": {
      "text/plain": [
       "321"
      ]
     },
     "execution_count": 56,
     "metadata": {},
     "output_type": "execute_result"
    }
   ],
   "source": [
    "draft_df.tg_id.nunique()"
   ]
  },
  {
   "cell_type": "markdown",
   "id": "c53b7280",
   "metadata": {},
   "source": [
    "#### Выделение идентификаторов пользователей в отдельную таблицу **`private_table.csv`** ####"
   ]
  },
  {
   "cell_type": "code",
   "execution_count": 57,
   "id": "75758137",
   "metadata": {},
   "outputs": [],
   "source": [
    "draft_df['uuid'] = ''\n",
    "draft_df.uuid = draft_df.uuid.transform(lambda x: str(uuid.uuid4()))\n",
    "private_table_df = draft_df[['uuid', 'tg_id']]\n",
    "private_table_df.to_csv('data/private_table.csv')"
   ]
  },
  {
   "cell_type": "markdown",
   "id": "335e9651",
   "metadata": {},
   "source": [
    "#### Удаление из основной таблицы telegram-логинов (остаются только **`uuid`**) ####"
   ]
  },
  {
   "cell_type": "code",
   "execution_count": 58,
   "id": "1666bd24",
   "metadata": {},
   "outputs": [],
   "source": [
    "table_df = draft_df.drop('tg_id', axis='columns')\n",
    "table_df.to_csv('data/table.csv')"
   ]
  },
  {
   "cell_type": "code",
   "execution_count": 59,
   "id": "ba090c85-b4a3-42e1-a38f-a1832c2ed703",
   "metadata": {},
   "outputs": [
    {
     "data": {
      "text/html": [
       "<div>\n",
       "<style scoped>\n",
       "    .dataframe tbody tr th:only-of-type {\n",
       "        vertical-align: middle;\n",
       "    }\n",
       "\n",
       "    .dataframe tbody tr th {\n",
       "        vertical-align: top;\n",
       "    }\n",
       "\n",
       "    .dataframe thead th {\n",
       "        text-align: right;\n",
       "    }\n",
       "</style>\n",
       "<table border=\"1\" class=\"dataframe\">\n",
       "  <thead>\n",
       "    <tr style=\"text-align: right;\">\n",
       "      <th></th>\n",
       "      <th>timezone</th>\n",
       "      <th>stack</th>\n",
       "      <th>occupation</th>\n",
       "      <th>role</th>\n",
       "      <th>project_role</th>\n",
       "      <th>weekload</th>\n",
       "      <th>course</th>\n",
       "      <th>course_time</th>\n",
       "      <th>notes</th>\n",
       "      <th>pl</th>\n",
       "      <th>chat</th>\n",
       "      <th>uuid</th>\n",
       "    </tr>\n",
       "  </thead>\n",
       "  <tbody>\n",
       "    <tr>\n",
       "      <th>count</th>\n",
       "      <td>322</td>\n",
       "      <td>321</td>\n",
       "      <td>322</td>\n",
       "      <td>322</td>\n",
       "      <td>322</td>\n",
       "      <td>322</td>\n",
       "      <td>322</td>\n",
       "      <td>322</td>\n",
       "      <td>99</td>\n",
       "      <td>205</td>\n",
       "      <td>322</td>\n",
       "      <td>322</td>\n",
       "    </tr>\n",
       "    <tr>\n",
       "      <th>unique</th>\n",
       "      <td>7</td>\n",
       "      <td>260</td>\n",
       "      <td>84</td>\n",
       "      <td>13</td>\n",
       "      <td>251</td>\n",
       "      <td>3</td>\n",
       "      <td>309</td>\n",
       "      <td>111</td>\n",
       "      <td>18</td>\n",
       "      <td>26</td>\n",
       "      <td>3</td>\n",
       "      <td>322</td>\n",
       "    </tr>\n",
       "    <tr>\n",
       "      <th>top</th>\n",
       "      <td>GMT+3 (Москва)</td>\n",
       "      <td>Python</td>\n",
       "      <td>Тестирование</td>\n",
       "      <td>Тестировщик</td>\n",
       "      <td>Тестировщик</td>\n",
       "      <td>20+ часов</td>\n",
       "      <td>Skillbox</td>\n",
       "      <td>Заканчиваю</td>\n",
       "      <td>manual</td>\n",
       "      <td>Python</td>\n",
       "      <td>Да</td>\n",
       "      <td>bd37bc23-ebc6-4407-8000-aa8101c80c12</td>\n",
       "    </tr>\n",
       "    <tr>\n",
       "      <th>freq</th>\n",
       "      <td>246</td>\n",
       "      <td>21</td>\n",
       "      <td>86</td>\n",
       "      <td>93</td>\n",
       "      <td>17</td>\n",
       "      <td>135</td>\n",
       "      <td>4</td>\n",
       "      <td>65</td>\n",
       "      <td>47</td>\n",
       "      <td>39</td>\n",
       "      <td>243</td>\n",
       "      <td>1</td>\n",
       "    </tr>\n",
       "  </tbody>\n",
       "</table>\n",
       "</div>"
      ],
      "text/plain": [
       "              timezone   stack    occupation         role project_role  \\\n",
       "count              322     321           322          322          322   \n",
       "unique               7     260            84           13          251   \n",
       "top     GMT+3 (Москва)  Python  Тестирование  Тестировщик  Тестировщик   \n",
       "freq               246      21            86           93           17   \n",
       "\n",
       "         weekload    course course_time   notes      pl chat  \\\n",
       "count         322       322         322      99     205  322   \n",
       "unique          3       309         111      18      26    3   \n",
       "top     20+ часов  Skillbox  Заканчиваю  manual  Python   Да   \n",
       "freq          135         4          65      47      39  243   \n",
       "\n",
       "                                        uuid  \n",
       "count                                    322  \n",
       "unique                                   322  \n",
       "top     bd37bc23-ebc6-4407-8000-aa8101c80c12  \n",
       "freq                                       1  "
      ]
     },
     "execution_count": 59,
     "metadata": {},
     "output_type": "execute_result"
    }
   ],
   "source": [
    "table_df.describe(include='object')"
   ]
  },
  {
   "cell_type": "code",
   "execution_count": null,
   "id": "ee90def3-5239-4ee0-b863-296f4d37b1fa",
   "metadata": {},
   "outputs": [],
   "source": []
  }
 ],
 "metadata": {
  "kernelspec": {
   "display_name": "Python 3 (ipykernel)",
   "language": "python",
   "name": "python3"
  },
  "language_info": {
   "codemirror_mode": {
    "name": "ipython",
    "version": 3
   },
   "file_extension": ".py",
   "mimetype": "text/x-python",
   "name": "python",
   "nbconvert_exporter": "python",
   "pygments_lexer": "ipython3",
   "version": "3.10.11"
  }
 },
 "nbformat": 4,
 "nbformat_minor": 5
}
