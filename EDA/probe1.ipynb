{
 "cells": [
  {
   "cell_type": "code",
   "execution_count": 1,
   "id": "ddc89959-473d-4cd8-a0ee-6f4746219d95",
   "metadata": {},
   "outputs": [],
   "source": [
    "import pandas as pd"
   ]
  },
  {
   "cell_type": "code",
   "execution_count": 19,
   "id": "bdc40e2b-b173-4a5f-979a-1205b1d69546",
   "metadata": {},
   "outputs": [
    {
     "data": {
      "text/html": [
       "<div>\n",
       "<style scoped>\n",
       "    .dataframe tbody tr th:only-of-type {\n",
       "        vertical-align: middle;\n",
       "    }\n",
       "\n",
       "    .dataframe tbody tr th {\n",
       "        vertical-align: top;\n",
       "    }\n",
       "\n",
       "    .dataframe thead th {\n",
       "        text-align: right;\n",
       "    }\n",
       "</style>\n",
       "<table border=\"1\" class=\"dataframe\">\n",
       "  <thead>\n",
       "    <tr style=\"text-align: right;\">\n",
       "      <th></th>\n",
       "      <th>Отметка времени</th>\n",
       "      <th>Профиль телеграмм (в формате @username)</th>\n",
       "      <th>Часовой пояс</th>\n",
       "      <th>Стек технологий</th>\n",
       "      <th>По какой специальности SF хотите заявиться?</th>\n",
       "      <th>Роль</th>\n",
       "      <th>В какой роли видите себя в проекте?</th>\n",
       "      <th>Сколько часов в неделю готовы уделять проекту?</th>\n",
       "      <th>Какие другие курсы закончили или находитесь в процессе обучения?</th>\n",
       "      <th>Как долго учитесь на курсах?</th>\n",
       "      <th>Notes</th>\n",
       "      <th>ЯП</th>\n",
       "      <th>Вступление в чат практики.</th>\n",
       "    </tr>\n",
       "  </thead>\n",
       "  <tbody>\n",
       "    <tr>\n",
       "      <th>0</th>\n",
       "      <td>2023-06-29 20:42:20</td>\n",
       "      <td>@bigmacKiller</td>\n",
       "      <td>GMT+3 (Москва)</td>\n",
       "      <td>Vue.js(Vue 3), Vuex, Vue Router, JavaScript(ES...</td>\n",
       "      <td>Программирование, Веб - разработка, Backend - ...</td>\n",
       "      <td>Frontend-разработчик</td>\n",
       "      <td>Frontend-разработчик</td>\n",
       "      <td>готов работать 25/8</td>\n",
       "      <td>web-разработчик на python</td>\n",
       "      <td>Нахожусь в конце обучения</td>\n",
       "      <td>NaN</td>\n",
       "      <td>JS</td>\n",
       "      <td>Да</td>\n",
       "    </tr>\n",
       "    <tr>\n",
       "      <th>1</th>\n",
       "      <td>2023-06-29 21:35:28</td>\n",
       "      <td>@im_not_superman</td>\n",
       "      <td>GMT+3 (Москва)</td>\n",
       "      <td>python (pandas. numpy, requests, bs4 и т.д.), ...</td>\n",
       "      <td>Data Science, Аналитика данных, Программирован...</td>\n",
       "      <td>Аналитик</td>\n",
       "      <td>DS, сбор и анализ данных, python-разработка</td>\n",
       "      <td>20+ часов</td>\n",
       "      <td>SkillFactory DS</td>\n",
       "      <td>Нахожусь в середине обучения</td>\n",
       "      <td>DS</td>\n",
       "      <td>Python</td>\n",
       "      <td>Да</td>\n",
       "    </tr>\n",
       "    <tr>\n",
       "      <th>2</th>\n",
       "      <td>2023-06-29 21:36:43</td>\n",
       "      <td>@Sniff03</td>\n",
       "      <td>GMT+3 (Москва)</td>\n",
       "      <td>UI\\UX дизайн, графический дизайн</td>\n",
       "      <td>Разработка приложений, Разработка игр, Дизайн</td>\n",
       "      <td>Дизайнер</td>\n",
       "      <td>Дизайнер</td>\n",
       "      <td>20+ часов</td>\n",
       "      <td>UI\\UX дизайн</td>\n",
       "      <td>Нахожусь в конце обучения</td>\n",
       "      <td>NaN</td>\n",
       "      <td>дизайн</td>\n",
       "      <td>Да</td>\n",
       "    </tr>\n",
       "    <tr>\n",
       "      <th>3</th>\n",
       "      <td>2023-06-29 21:37:21</td>\n",
       "      <td>https://t.me/areyra1</td>\n",
       "      <td>GMT+3 (Москва)</td>\n",
       "      <td>ui/ux; graphic;Figma;Тильда;Логодизайнер</td>\n",
       "      <td>Дизайн, Создание сайтов</td>\n",
       "      <td>Дизайнер</td>\n",
       "      <td>графический дизайнер</td>\n",
       "      <td>10+ часов</td>\n",
       "      <td>Поток;Contented;UNID</td>\n",
       "      <td>Закончил(а) обучение</td>\n",
       "      <td>NaN</td>\n",
       "      <td>NaN</td>\n",
       "      <td>Нет</td>\n",
       "    </tr>\n",
       "    <tr>\n",
       "      <th>4</th>\n",
       "      <td>2023-06-29 21:38:50</td>\n",
       "      <td>@Max_1287</td>\n",
       "      <td>GMT+3 (Москва)</td>\n",
       "      <td>c# Backend</td>\n",
       "      <td>Программирование, Разработка игр, Веб - разраб...</td>\n",
       "      <td>Backend разработчик</td>\n",
       "      <td>Программист-разработчик backend</td>\n",
       "      <td>готов работать 25/8</td>\n",
       "      <td>SkillBox, Synergy, Ulearn... (в основном везде...</td>\n",
       "      <td>Закончил(а) обучение</td>\n",
       "      <td>NaN</td>\n",
       "      <td>C#</td>\n",
       "      <td>Да</td>\n",
       "    </tr>\n",
       "  </tbody>\n",
       "</table>\n",
       "</div>"
      ],
      "text/plain": [
       "      Отметка времени Профиль телеграмм (в формате @username)    Часовой пояс  \\\n",
       "0 2023-06-29 20:42:20                           @bigmacKiller  GMT+3 (Москва)   \n",
       "1 2023-06-29 21:35:28                        @im_not_superman  GMT+3 (Москва)   \n",
       "2 2023-06-29 21:36:43                                @Sniff03  GMT+3 (Москва)   \n",
       "3 2023-06-29 21:37:21                    https://t.me/areyra1  GMT+3 (Москва)   \n",
       "4 2023-06-29 21:38:50                               @Max_1287  GMT+3 (Москва)   \n",
       "\n",
       "                                     Стек технологий  \\\n",
       "0  Vue.js(Vue 3), Vuex, Vue Router, JavaScript(ES...   \n",
       "1  python (pandas. numpy, requests, bs4 и т.д.), ...   \n",
       "2                   UI\\UX дизайн, графический дизайн   \n",
       "3           ui/ux; graphic;Figma;Тильда;Логодизайнер   \n",
       "4                                         c# Backend   \n",
       "\n",
       "         По какой специальности SF хотите заявиться?                  Роль  \\\n",
       "0  Программирование, Веб - разработка, Backend - ...  Frontend-разработчик   \n",
       "1  Data Science, Аналитика данных, Программирован...              Аналитик   \n",
       "2      Разработка приложений, Разработка игр, Дизайн              Дизайнер   \n",
       "3                            Дизайн, Создание сайтов              Дизайнер   \n",
       "4  Программирование, Разработка игр, Веб - разраб...   Backend разработчик   \n",
       "\n",
       "           В какой роли видите себя в проекте?  \\\n",
       "0                         Frontend-разработчик   \n",
       "1  DS, сбор и анализ данных, python-разработка   \n",
       "2                                     Дизайнер   \n",
       "3                         графический дизайнер   \n",
       "4              Программист-разработчик backend   \n",
       "\n",
       "  Сколько часов в неделю готовы уделять проекту?  \\\n",
       "0                            готов работать 25/8   \n",
       "1                                      20+ часов   \n",
       "2                                      20+ часов   \n",
       "3                                      10+ часов   \n",
       "4                            готов работать 25/8   \n",
       "\n",
       "  Какие другие курсы закончили или находитесь в процессе обучения?  \\\n",
       "0                          web-разработчик на python                 \n",
       "1                                    SkillFactory DS                 \n",
       "2                                       UI\\UX дизайн                 \n",
       "3                               Поток;Contented;UNID                 \n",
       "4  SkillBox, Synergy, Ulearn... (в основном везде...                 \n",
       "\n",
       "   Как долго учитесь на курсах? Notes      ЯП Вступление в чат практики.  \n",
       "0     Нахожусь в конце обучения   NaN      JS                         Да  \n",
       "1  Нахожусь в середине обучения    DS  Python                         Да  \n",
       "2     Нахожусь в конце обучения   NaN  дизайн                         Да  \n",
       "3          Закончил(а) обучение   NaN     NaN                        Нет  \n",
       "4          Закончил(а) обучение   NaN      C#                         Да  "
      ]
     },
     "execution_count": 19,
     "metadata": {},
     "output_type": "execute_result"
    }
   ],
   "source": [
    "draft_df = pd.read_excel('data/anketa_2.xlsx')\n",
    "draft_df.head()"
   ]
  },
  {
   "cell_type": "code",
   "execution_count": 13,
   "id": "21c821a3-ea0e-4687-be6c-915e9c31b372",
   "metadata": {},
   "outputs": [
    {
     "name": "stdout",
     "output_type": "stream",
     "text": [
      "<class 'pandas.core.frame.DataFrame'>\n",
      "RangeIndex: 322 entries, 0 to 321\n",
      "Data columns (total 13 columns):\n",
      " #   Column                                                            Non-Null Count  Dtype         \n",
      "---  ------                                                            --------------  -----         \n",
      " 0   Отметка времени                                                   320 non-null    datetime64[ns]\n",
      " 1   Профиль телеграмм (в формате @username)                           321 non-null    object        \n",
      " 2   Часовой пояс                                                      322 non-null    object        \n",
      " 3   Стек технологий                                                   321 non-null    object        \n",
      " 4   По какой специальности SF хотите заявиться?                       322 non-null    object        \n",
      " 5   Роль                                                              322 non-null    object        \n",
      " 6   В какой роли видите себя в проекте?                               322 non-null    object        \n",
      " 7   Сколько часов в неделю готовы уделять проекту?                    322 non-null    object        \n",
      " 8   Какие другие курсы закончили или находитесь в процессе обучения?  322 non-null    object        \n",
      " 9   Как долго учитесь на курсах?                                      322 non-null    object        \n",
      " 10  Notes                                                             99 non-null     object        \n",
      " 11  ЯП                                                                205 non-null    object        \n",
      " 12  Вступление в чат практики.                                        322 non-null    object        \n",
      "dtypes: datetime64[ns](1), object(12)\n",
      "memory usage: 32.8+ KB\n"
     ]
    },
    {
     "data": {
      "text/plain": [
       "None"
      ]
     },
     "metadata": {},
     "output_type": "display_data"
    }
   ],
   "source": [
    "display(draft_df.info())"
   ]
  },
  {
   "cell_type": "code",
   "execution_count": 18,
   "id": "a79c253b-25ec-49d1-a4a7-ad6543abf16b",
   "metadata": {},
   "outputs": [
    {
     "name": "stdout",
     "output_type": "stream",
     "text": [
      "['Отметка времени', 'Профиль телеграмм (в формате @username)', 'Часовой пояс', 'Стек технологий', 'По какой специальности SF хотите заявиться?', 'Роль', 'В какой роли видите себя в проекте?', 'Сколько часов в неделю готовы уделять проекту?', 'Какие другие курсы закончили или находитесь в процессе обучения?', 'Как долго учитесь на курсах?', 'Notes', 'ЯП', 'Вступление в чат практики.']\n"
     ]
    }
   ],
   "source": [
    "old_cols = list(draft_df.columns)\n",
    "print(old_cols)"
   ]
  },
  {
   "cell_type": "code",
   "execution_count": null,
   "id": "c8cc9b78",
   "metadata": {},
   "outputs": [],
   "source": [
    "old_cols = [\n",
    "    'Отметка времени',\n",
    "    'Профиль телеграмм (в формате @username)',\n",
    "    'Часовой пояс',\n",
    "    'Стек технологий',\n",
    "    'По какой специальности SF хотите заявиться?',\n",
    "    'Роль',\n",
    "    'В какой роли видите себя в проекте?',\n",
    "    'Сколько часов в неделю готовы уделять проекту?',\n",
    "    'Какие другие курсы закончили или находитесь в процессе обучения?',\n",
    "    'Как долго учитесь на курсах?',\n",
    "    'Notes',\n",
    "    'ЯП',\n",
    "    'Вступление в чат практики.'\n",
    "]\n",
    "new_cols = [\n",
    "    'date',\n",
    "    'tg_id',\n",
    "    'timezone',\n",
    "    'stack',\n",
    "    'occupation',\n",
    "    'role',\n",
    "    'project_role',\n",
    "    'weekload',\n",
    "    'course',\n",
    "    'course_time',\n",
    "    'notes',\n",
    "    'pl',\n",
    "    'chat'\n",
    "]"
   ]
  },
  {
   "cell_type": "code",
   "execution_count": 14,
   "id": "cef48865-58ab-464e-976f-a41f2434b578",
   "metadata": {},
   "outputs": [
    {
     "data": {
      "text/plain": [
       "Отметка времени                                                       2\n",
       "Профиль телеграмм (в формате @username)                               1\n",
       "Часовой пояс                                                          0\n",
       "Стек технологий                                                       1\n",
       "По какой специальности SF хотите заявиться?                           0\n",
       "Роль                                                                  0\n",
       "В какой роли видите себя в проекте?                                   0\n",
       "Сколько часов в неделю готовы уделять проекту?                        0\n",
       "Какие другие курсы закончили или находитесь в процессе обучения?      0\n",
       "Как долго учитесь на курсах?                                          0\n",
       "Notes                                                               223\n",
       "ЯП                                                                  117\n",
       "Вступление в чат практики.                                            0\n",
       "dtype: int64"
      ]
     },
     "metadata": {},
     "output_type": "display_data"
    }
   ],
   "source": [
    "display(draft_df.isna().sum(axis='index'))"
   ]
  },
  {
   "cell_type": "code",
   "execution_count": 6,
   "id": "eb441caa",
   "metadata": {},
   "outputs": [],
   "source": [
    "draft_df.to_csv('data/anketa_1.csv')"
   ]
  }
 ],
 "metadata": {
  "kernelspec": {
   "display_name": "Python 3 (ipykernel)",
   "language": "python",
   "name": "python3"
  },
  "language_info": {
   "codemirror_mode": {
    "name": "ipython",
    "version": 3
   },
   "file_extension": ".py",
   "mimetype": "text/x-python",
   "name": "python",
   "nbconvert_exporter": "python",
   "pygments_lexer": "ipython3",
   "version": "3.10.11"
  }
 },
 "nbformat": 4,
 "nbformat_minor": 5
}
