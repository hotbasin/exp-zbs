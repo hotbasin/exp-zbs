{
 "cells": [
  {
   "cell_type": "code",
   "execution_count": 1,
   "id": "ddc89959-473d-4cd8-a0ee-6f4746219d95",
   "metadata": {},
   "outputs": [],
   "source": [
    "import uuid\n",
    "\n",
    "import pandas as pd"
   ]
  },
  {
   "cell_type": "code",
   "execution_count": 2,
   "id": "bdc40e2b-b173-4a5f-979a-1205b1d69546",
   "metadata": {},
   "outputs": [],
   "source": [
    "ini_df = pd.read_csv('data/anketa_ini.csv')"
   ]
  },
  {
   "cell_type": "markdown",
   "id": "00ace26d",
   "metadata": {},
   "source": [
    "# Предварительная подготовка таблиц #"
   ]
  },
  {
   "cell_type": "code",
   "execution_count": 3,
   "id": "ce75b711-f497-4d15-ba4e-ddb670532c3d",
   "metadata": {},
   "outputs": [
    {
     "name": "stdout",
     "output_type": "stream",
     "text": [
      "<class 'pandas.core.frame.DataFrame'>\n",
      "RangeIndex: 322 entries, 0 to 321\n",
      "Data columns (total 14 columns):\n",
      " #   Column                                                            Non-Null Count  Dtype \n",
      "---  ------                                                            --------------  ----- \n",
      " 0   Отметка времени                                                   320 non-null    object\n",
      " 1   Профиль телеграмм (в формате @username)                           321 non-null    object\n",
      " 2   Часовой пояс                                                      322 non-null    object\n",
      " 3   Стек технологий                                                   321 non-null    object\n",
      " 4   По какой специальности SF хотите заявиться?                       322 non-null    object\n",
      " 5   Роль                                                              322 non-null    object\n",
      " 6   В какой роли видите себя в проекте?                               322 non-null    object\n",
      " 7   Сколько часов в неделю готовы уделять проекту?                    322 non-null    object\n",
      " 8   Какие другие курсы закончили или находитесь в процессе обучения?  322 non-null    object\n",
      " 9   Как долго учитесь на курсах?                                      322 non-null    object\n",
      " 10  Notes                                                             99 non-null     object\n",
      " 11  ЯП                                                                205 non-null    object\n",
      " 12  Вступление в чат практики.                                        322 non-null    object\n",
      " 13  Выбыл                                                             63 non-null     object\n",
      "dtypes: object(14)\n",
      "memory usage: 35.3+ KB\n"
     ]
    },
    {
     "data": {
      "text/plain": [
       "None"
      ]
     },
     "metadata": {},
     "output_type": "display_data"
    }
   ],
   "source": [
    "display(ini_df.info())"
   ]
  },
  {
   "cell_type": "markdown",
   "id": "2a6c837b",
   "metadata": {},
   "source": [
    "#### Переименование признаков для размещения таблиц в БД ####"
   ]
  },
  {
   "cell_type": "code",
   "execution_count": 4,
   "id": "c8cc9b78",
   "metadata": {},
   "outputs": [
    {
     "name": "stdout",
     "output_type": "stream",
     "text": [
      "<class 'pandas.core.frame.DataFrame'>\n",
      "RangeIndex: 322 entries, 0 to 321\n",
      "Data columns (total 14 columns):\n",
      " #   Column        Non-Null Count  Dtype \n",
      "---  ------        --------------  ----- \n",
      " 0   date          320 non-null    object\n",
      " 1   tg_id         321 non-null    object\n",
      " 2   timezone      322 non-null    object\n",
      " 3   stack         321 non-null    object\n",
      " 4   occupation    322 non-null    object\n",
      " 5   role          322 non-null    object\n",
      " 6   project_role  322 non-null    object\n",
      " 7   weekload      322 non-null    object\n",
      " 8   course        322 non-null    object\n",
      " 9   course_time   322 non-null    object\n",
      " 10  notes         99 non-null     object\n",
      " 11  pl            205 non-null    object\n",
      " 12  chat          322 non-null    object\n",
      " 13  exited        63 non-null     object\n",
      "dtypes: object(14)\n",
      "memory usage: 35.3+ KB\n"
     ]
    }
   ],
   "source": [
    "old_cols = [\n",
    "    'Отметка времени',\n",
    "    'Профиль телеграмм (в формате @username)',\n",
    "    'Часовой пояс',\n",
    "    'Стек технологий',\n",
    "    'По какой специальности SF хотите заявиться?',\n",
    "    'Роль',\n",
    "    'В какой роли видите себя в проекте?',\n",
    "    'Сколько часов в неделю готовы уделять проекту?',\n",
    "    'Какие другие курсы закончили или находитесь в процессе обучения?',\n",
    "    'Как долго учитесь на курсах?',\n",
    "    'Notes',\n",
    "    'ЯП',\n",
    "    'Вступление в чат практики.',\n",
    "    'Выбыл'\n",
    "]\n",
    "new_cols = [\n",
    "    'date',\n",
    "    'tg_id',\n",
    "    'timezone',\n",
    "    'stack',\n",
    "    'occupation',\n",
    "    'role',\n",
    "    'project_role',\n",
    "    'weekload',\n",
    "    'course',\n",
    "    'course_time',\n",
    "    'notes',\n",
    "    'pl',\n",
    "    'chat',\n",
    "    'exited'\n",
    "]\n",
    "\n",
    "def map_names(old_list: list, new_list: list) -> dict:\n",
    "    dict_ = dict()\n",
    "    if len(old_list) == len(new_list):\n",
    "        for old_name, new_name in zip(old_list, new_list):\n",
    "            dict_[old_name] = new_name\n",
    "    return dict_\n",
    "\n",
    "ini_df.rename(columns=map_names(old_cols, new_cols), inplace=True)\n",
    "ini_df.info()"
   ]
  },
  {
   "cell_type": "markdown",
   "id": "e16cae10",
   "metadata": {},
   "source": [
    "#### Контроль пустых мест ####"
   ]
  },
  {
   "cell_type": "code",
   "execution_count": 5,
   "id": "d9a59107",
   "metadata": {},
   "outputs": [
    {
     "data": {
      "text/plain": [
       "date              2\n",
       "tg_id             1\n",
       "timezone          0\n",
       "stack             1\n",
       "occupation        0\n",
       "role              0\n",
       "project_role      0\n",
       "weekload          0\n",
       "course            0\n",
       "course_time       0\n",
       "notes           223\n",
       "pl              117\n",
       "chat              0\n",
       "exited          259\n",
       "dtype: int64"
      ]
     },
     "metadata": {},
     "output_type": "display_data"
    }
   ],
   "source": [
    "display(ini_df.isna().sum(axis='index'))"
   ]
  },
  {
   "cell_type": "code",
   "execution_count": 6,
   "id": "3aded0e6",
   "metadata": {},
   "outputs": [
    {
     "data": {
      "text/plain": [
       "321"
      ]
     },
     "execution_count": 6,
     "metadata": {},
     "output_type": "execute_result"
    }
   ],
   "source": [
    "ini_df.tg_id.nunique()"
   ]
  },
  {
   "cell_type": "markdown",
   "id": "c53b7280",
   "metadata": {},
   "source": [
    "#### Выделение идентификаторов пользователей в отдельную таблицу **`private_table.csv`** ####"
   ]
  },
  {
   "cell_type": "code",
   "execution_count": 7,
   "id": "75758137",
   "metadata": {},
   "outputs": [],
   "source": [
    "ini_df['uuid'] = ''\n",
    "ini_df.uuid = ini_df.uuid.transform(lambda x: str(uuid.uuid4()))\n",
    "private_table_df = ini_df[['uuid', 'tg_id']]\n",
    "private_table_df.to_csv('data/private_table.csv')"
   ]
  },
  {
   "cell_type": "markdown",
   "id": "335e9651",
   "metadata": {},
   "source": [
    "#### Удаление из основной таблицы telegram-логинов (остаются только **`uuid`**) ####"
   ]
  },
  {
   "cell_type": "code",
   "execution_count": 8,
   "id": "1666bd24",
   "metadata": {},
   "outputs": [],
   "source": [
    "table_df = ini_df.drop('tg_id', axis='columns')\n",
    "table_df.to_csv('data/table.csv')"
   ]
  },
  {
   "cell_type": "code",
   "execution_count": 9,
   "id": "ba090c85-b4a3-42e1-a38f-a1832c2ed703",
   "metadata": {},
   "outputs": [
    {
     "data": {
      "text/html": [
       "<div>\n",
       "<style scoped>\n",
       "    .dataframe tbody tr th:only-of-type {\n",
       "        vertical-align: middle;\n",
       "    }\n",
       "\n",
       "    .dataframe tbody tr th {\n",
       "        vertical-align: top;\n",
       "    }\n",
       "\n",
       "    .dataframe thead th {\n",
       "        text-align: right;\n",
       "    }\n",
       "</style>\n",
       "<table border=\"1\" class=\"dataframe\">\n",
       "  <thead>\n",
       "    <tr style=\"text-align: right;\">\n",
       "      <th></th>\n",
       "      <th>date</th>\n",
       "      <th>timezone</th>\n",
       "      <th>stack</th>\n",
       "      <th>occupation</th>\n",
       "      <th>role</th>\n",
       "      <th>project_role</th>\n",
       "      <th>weekload</th>\n",
       "      <th>course</th>\n",
       "      <th>course_time</th>\n",
       "      <th>notes</th>\n",
       "      <th>pl</th>\n",
       "      <th>chat</th>\n",
       "      <th>exited</th>\n",
       "      <th>uuid</th>\n",
       "    </tr>\n",
       "  </thead>\n",
       "  <tbody>\n",
       "    <tr>\n",
       "      <th>count</th>\n",
       "      <td>320</td>\n",
       "      <td>322</td>\n",
       "      <td>321</td>\n",
       "      <td>322</td>\n",
       "      <td>322</td>\n",
       "      <td>322</td>\n",
       "      <td>322</td>\n",
       "      <td>322</td>\n",
       "      <td>322</td>\n",
       "      <td>99</td>\n",
       "      <td>205</td>\n",
       "      <td>322</td>\n",
       "      <td>63</td>\n",
       "      <td>322</td>\n",
       "    </tr>\n",
       "    <tr>\n",
       "      <th>unique</th>\n",
       "      <td>320</td>\n",
       "      <td>7</td>\n",
       "      <td>260</td>\n",
       "      <td>84</td>\n",
       "      <td>13</td>\n",
       "      <td>251</td>\n",
       "      <td>3</td>\n",
       "      <td>309</td>\n",
       "      <td>111</td>\n",
       "      <td>18</td>\n",
       "      <td>26</td>\n",
       "      <td>3</td>\n",
       "      <td>1</td>\n",
       "      <td>322</td>\n",
       "    </tr>\n",
       "    <tr>\n",
       "      <th>top</th>\n",
       "      <td>29.06.2023 20:42:20</td>\n",
       "      <td>GMT+3 (Москва)</td>\n",
       "      <td>Python</td>\n",
       "      <td>Тестирование</td>\n",
       "      <td>Тестировщик</td>\n",
       "      <td>Тестировщик</td>\n",
       "      <td>20+ часов</td>\n",
       "      <td>Skillbox</td>\n",
       "      <td>Заканчиваю</td>\n",
       "      <td>manual</td>\n",
       "      <td>Python</td>\n",
       "      <td>Да</td>\n",
       "      <td>Выбыл</td>\n",
       "      <td>e51c7642-2e5b-4734-a9b1-012fefecf86c</td>\n",
       "    </tr>\n",
       "    <tr>\n",
       "      <th>freq</th>\n",
       "      <td>1</td>\n",
       "      <td>246</td>\n",
       "      <td>21</td>\n",
       "      <td>86</td>\n",
       "      <td>93</td>\n",
       "      <td>17</td>\n",
       "      <td>135</td>\n",
       "      <td>4</td>\n",
       "      <td>65</td>\n",
       "      <td>47</td>\n",
       "      <td>39</td>\n",
       "      <td>243</td>\n",
       "      <td>63</td>\n",
       "      <td>1</td>\n",
       "    </tr>\n",
       "  </tbody>\n",
       "</table>\n",
       "</div>"
      ],
      "text/plain": [
       "                       date        timezone   stack    occupation  \\\n",
       "count                   320             322     321           322   \n",
       "unique                  320               7     260            84   \n",
       "top     29.06.2023 20:42:20  GMT+3 (Москва)  Python  Тестирование   \n",
       "freq                      1             246      21            86   \n",
       "\n",
       "               role project_role   weekload    course course_time   notes  \\\n",
       "count           322          322        322       322         322      99   \n",
       "unique           13          251          3       309         111      18   \n",
       "top     Тестировщик  Тестировщик  20+ часов  Skillbox  Заканчиваю  manual   \n",
       "freq             93           17        135         4          65      47   \n",
       "\n",
       "            pl chat exited                                  uuid  \n",
       "count      205  322     63                                   322  \n",
       "unique      26    3      1                                   322  \n",
       "top     Python   Да  Выбыл  e51c7642-2e5b-4734-a9b1-012fefecf86c  \n",
       "freq        39  243     63                                     1  "
      ]
     },
     "execution_count": 9,
     "metadata": {},
     "output_type": "execute_result"
    }
   ],
   "source": [
    "table_df.describe(include='object')"
   ]
  },
  {
   "cell_type": "code",
   "execution_count": 10,
   "id": "ee90def3-5239-4ee0-b863-296f4d37b1fa",
   "metadata": {},
   "outputs": [
    {
     "data": {
      "text/html": [
       "<div>\n",
       "<style scoped>\n",
       "    .dataframe tbody tr th:only-of-type {\n",
       "        vertical-align: middle;\n",
       "    }\n",
       "\n",
       "    .dataframe tbody tr th {\n",
       "        vertical-align: top;\n",
       "    }\n",
       "\n",
       "    .dataframe thead th {\n",
       "        text-align: right;\n",
       "    }\n",
       "</style>\n",
       "<table border=\"1\" class=\"dataframe\">\n",
       "  <thead>\n",
       "    <tr style=\"text-align: right;\">\n",
       "      <th></th>\n",
       "      <th>date</th>\n",
       "      <th>timezone</th>\n",
       "      <th>stack</th>\n",
       "      <th>occupation</th>\n",
       "      <th>role</th>\n",
       "      <th>project_role</th>\n",
       "      <th>weekload</th>\n",
       "      <th>course</th>\n",
       "      <th>course_time</th>\n",
       "      <th>notes</th>\n",
       "      <th>pl</th>\n",
       "      <th>chat</th>\n",
       "      <th>exited</th>\n",
       "      <th>uuid</th>\n",
       "    </tr>\n",
       "  </thead>\n",
       "  <tbody>\n",
       "    <tr>\n",
       "      <th>0</th>\n",
       "      <td>29.06.2023 20:42:20</td>\n",
       "      <td>GMT+3 (Москва)</td>\n",
       "      <td>Vue.js(Vue 3), Vuex, Vue Router, JavaScript(ES...</td>\n",
       "      <td>Программирование, Веб - разработка, Backend - ...</td>\n",
       "      <td>Frontend-разработчик</td>\n",
       "      <td>Frontend-разработчик</td>\n",
       "      <td>готов работать 25/8</td>\n",
       "      <td>web-разработчик на python</td>\n",
       "      <td>Нахожусь в конце обучения</td>\n",
       "      <td>NaN</td>\n",
       "      <td>JS</td>\n",
       "      <td>Да</td>\n",
       "      <td>Выбыл</td>\n",
       "      <td>e51c7642-2e5b-4734-a9b1-012fefecf86c</td>\n",
       "    </tr>\n",
       "    <tr>\n",
       "      <th>1</th>\n",
       "      <td>29.06.2023 21:35:28</td>\n",
       "      <td>GMT+3 (Москва)</td>\n",
       "      <td>python (pandas. numpy, requests, bs4 и т.д.), ...</td>\n",
       "      <td>Data Science, Аналитика данных, Программирован...</td>\n",
       "      <td>Аналитик</td>\n",
       "      <td>DS, сбор и анализ данных, python-разработка</td>\n",
       "      <td>20+ часов</td>\n",
       "      <td>SkillFactory DS</td>\n",
       "      <td>Нахожусь в середине обучения</td>\n",
       "      <td>DS</td>\n",
       "      <td>Python</td>\n",
       "      <td>Да</td>\n",
       "      <td>NaN</td>\n",
       "      <td>fc96e578-a226-44a9-bb74-d3191035d5a9</td>\n",
       "    </tr>\n",
       "    <tr>\n",
       "      <th>2</th>\n",
       "      <td>29.06.2023 21:36:43</td>\n",
       "      <td>GMT+3 (Москва)</td>\n",
       "      <td>UI\\UX дизайн, графический дизайн</td>\n",
       "      <td>Разработка приложений, Разработка игр, Дизайн</td>\n",
       "      <td>Дизайнер</td>\n",
       "      <td>Дизайнер</td>\n",
       "      <td>20+ часов</td>\n",
       "      <td>UI\\UX дизайн</td>\n",
       "      <td>Нахожусь в конце обучения</td>\n",
       "      <td>NaN</td>\n",
       "      <td>дизайн</td>\n",
       "      <td>Да</td>\n",
       "      <td>NaN</td>\n",
       "      <td>4c3ea95d-3999-4671-94c1-1473f21c97b4</td>\n",
       "    </tr>\n",
       "    <tr>\n",
       "      <th>3</th>\n",
       "      <td>29.06.2023 21:37:21</td>\n",
       "      <td>GMT+3 (Москва)</td>\n",
       "      <td>ui/ux; graphic;Figma;Тильда;Логодизайнер</td>\n",
       "      <td>Дизайн, Создание сайтов</td>\n",
       "      <td>Дизайнер</td>\n",
       "      <td>графический дизайнер</td>\n",
       "      <td>10+ часов</td>\n",
       "      <td>Поток;Contented;UNID</td>\n",
       "      <td>Закончил(а) обучение</td>\n",
       "      <td>NaN</td>\n",
       "      <td>NaN</td>\n",
       "      <td>Нет</td>\n",
       "      <td>NaN</td>\n",
       "      <td>ee67718d-49f8-4071-b40a-d5a99ba336a9</td>\n",
       "    </tr>\n",
       "    <tr>\n",
       "      <th>4</th>\n",
       "      <td>29.06.2023 21:38:50</td>\n",
       "      <td>GMT+3 (Москва)</td>\n",
       "      <td>c# Backend</td>\n",
       "      <td>Программирование, Разработка игр, Веб - разраб...</td>\n",
       "      <td>Backend разработчик</td>\n",
       "      <td>Программист-разработчик backend</td>\n",
       "      <td>готов работать 25/8</td>\n",
       "      <td>SkillBox, Synergy, Ulearn... (в основном везде...</td>\n",
       "      <td>Закончил(а) обучение</td>\n",
       "      <td>NaN</td>\n",
       "      <td>C#</td>\n",
       "      <td>Да</td>\n",
       "      <td>NaN</td>\n",
       "      <td>3b85d8dd-1c29-4609-8e48-6413446c24a5</td>\n",
       "    </tr>\n",
       "  </tbody>\n",
       "</table>\n",
       "</div>"
      ],
      "text/plain": [
       "                  date        timezone  \\\n",
       "0  29.06.2023 20:42:20  GMT+3 (Москва)   \n",
       "1  29.06.2023 21:35:28  GMT+3 (Москва)   \n",
       "2  29.06.2023 21:36:43  GMT+3 (Москва)   \n",
       "3  29.06.2023 21:37:21  GMT+3 (Москва)   \n",
       "4  29.06.2023 21:38:50  GMT+3 (Москва)   \n",
       "\n",
       "                                               stack  \\\n",
       "0  Vue.js(Vue 3), Vuex, Vue Router, JavaScript(ES...   \n",
       "1  python (pandas. numpy, requests, bs4 и т.д.), ...   \n",
       "2                   UI\\UX дизайн, графический дизайн   \n",
       "3           ui/ux; graphic;Figma;Тильда;Логодизайнер   \n",
       "4                                         c# Backend   \n",
       "\n",
       "                                          occupation                  role  \\\n",
       "0  Программирование, Веб - разработка, Backend - ...  Frontend-разработчик   \n",
       "1  Data Science, Аналитика данных, Программирован...              Аналитик   \n",
       "2      Разработка приложений, Разработка игр, Дизайн              Дизайнер   \n",
       "3                            Дизайн, Создание сайтов              Дизайнер   \n",
       "4  Программирование, Разработка игр, Веб - разраб...   Backend разработчик   \n",
       "\n",
       "                                  project_role             weekload  \\\n",
       "0                         Frontend-разработчик  готов работать 25/8   \n",
       "1  DS, сбор и анализ данных, python-разработка            20+ часов   \n",
       "2                                     Дизайнер            20+ часов   \n",
       "3                         графический дизайнер            10+ часов   \n",
       "4              Программист-разработчик backend  готов работать 25/8   \n",
       "\n",
       "                                              course  \\\n",
       "0                          web-разработчик на python   \n",
       "1                                    SkillFactory DS   \n",
       "2                                       UI\\UX дизайн   \n",
       "3                               Поток;Contented;UNID   \n",
       "4  SkillBox, Synergy, Ulearn... (в основном везде...   \n",
       "\n",
       "                    course_time notes      pl chat exited  \\\n",
       "0     Нахожусь в конце обучения   NaN      JS   Да  Выбыл   \n",
       "1  Нахожусь в середине обучения    DS  Python   Да    NaN   \n",
       "2     Нахожусь в конце обучения   NaN  дизайн   Да    NaN   \n",
       "3          Закончил(а) обучение   NaN     NaN  Нет    NaN   \n",
       "4          Закончил(а) обучение   NaN      C#   Да    NaN   \n",
       "\n",
       "                                   uuid  \n",
       "0  e51c7642-2e5b-4734-a9b1-012fefecf86c  \n",
       "1  fc96e578-a226-44a9-bb74-d3191035d5a9  \n",
       "2  4c3ea95d-3999-4671-94c1-1473f21c97b4  \n",
       "3  ee67718d-49f8-4071-b40a-d5a99ba336a9  \n",
       "4  3b85d8dd-1c29-4609-8e48-6413446c24a5  "
      ]
     },
     "execution_count": 10,
     "metadata": {},
     "output_type": "execute_result"
    }
   ],
   "source": [
    "table_df.head()"
   ]
  },
  {
   "cell_type": "code",
   "execution_count": 11,
   "id": "15ac8df1",
   "metadata": {},
   "outputs": [
    {
     "data": {
      "text/plain": [
       "array(['JS', 'Python', 'дизайн', nan, 'C#', 'Java', 'Golang', 'QAM',\n",
       "       'QAP', 'DevOps', 'Android', 'PHP', 'С++', 'Andoroid', 'SQL',\n",
       "       'дизайнер', 'QAJA', 'QAP + Lead', 'QAJA + Lead', 'C++',\n",
       "       'QAM + Lead', 'Flutter Dart', 'iOS', 'PM', 'JS + Lead', 'QAM+Lead',\n",
       "       'QA'], dtype=object)"
      ]
     },
     "execution_count": 11,
     "metadata": {},
     "output_type": "execute_result"
    }
   ],
   "source": [
    "table_df.pl.unique()"
   ]
  },
  {
   "cell_type": "code",
   "execution_count": null,
   "id": "7e3751a9-68be-4739-9c39-c798ef428525",
   "metadata": {},
   "outputs": [],
   "source": []
  }
 ],
 "metadata": {
  "kernelspec": {
   "display_name": "Python 3 (ipykernel)",
   "language": "python",
   "name": "python3"
  },
  "language_info": {
   "codemirror_mode": {
    "name": "ipython",
    "version": 3
   },
   "file_extension": ".py",
   "mimetype": "text/x-python",
   "name": "python",
   "nbconvert_exporter": "python",
   "pygments_lexer": "ipython3",
   "version": "3.10.11"
  }
 },
 "nbformat": 4,
 "nbformat_minor": 5
}
