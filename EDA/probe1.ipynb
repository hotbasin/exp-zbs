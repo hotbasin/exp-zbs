{
 "cells": [
  {
   "cell_type": "code",
   "execution_count": 1,
   "id": "ddc89959-473d-4cd8-a0ee-6f4746219d95",
   "metadata": {},
   "outputs": [],
   "source": [
    "import pandas as pd"
   ]
  },
  {
   "cell_type": "code",
   "execution_count": 8,
   "id": "bdc40e2b-b173-4a5f-979a-1205b1d69546",
   "metadata": {},
   "outputs": [],
   "source": [
    "draft1_df = pd.read_excel('data/anketa_1.xlsx')\n",
    "draft2_df = pd.read_excel('data/anketa_2.xlsx')"
   ]
  },
  {
   "cell_type": "code",
   "execution_count": 9,
   "id": "21c821a3-ea0e-4687-be6c-915e9c31b372",
   "metadata": {},
   "outputs": [
    {
     "name": "stdout",
     "output_type": "stream",
     "text": [
      "<class 'pandas.core.frame.DataFrame'>\n",
      "RangeIndex: 322 entries, 0 to 321\n",
      "Data columns (total 13 columns):\n",
      " #   Column                                                            Non-Null Count  Dtype         \n",
      "---  ------                                                            --------------  -----         \n",
      " 0   Отметка времени                                                   320 non-null    datetime64[ns]\n",
      " 1   Профиль телеграмм (в формате @username)                           321 non-null    object        \n",
      " 2   Часовой пояс                                                      322 non-null    object        \n",
      " 3   Стек технологий                                                   321 non-null    object        \n",
      " 4   По какой специальности SF хотите заявиться?                       322 non-null    object        \n",
      " 5   Роль                                                              322 non-null    object        \n",
      " 6   В какой роли видите себя в проекте?                               322 non-null    object        \n",
      " 7   Сколько часов в неделю готовы уделять проекту?                    322 non-null    object        \n",
      " 8   Какие другие курсы закончили или находитесь в процессе обучения?  322 non-null    object        \n",
      " 9   Как долго учитесь на курсах?                                      322 non-null    object        \n",
      " 10  Notes                                                             99 non-null     object        \n",
      " 11  ЯП                                                                205 non-null    object        \n",
      " 12  Вступление в чат практики.                                        322 non-null    object        \n",
      "dtypes: datetime64[ns](1), object(12)\n",
      "memory usage: 32.8+ KB\n"
     ]
    },
    {
     "data": {
      "text/plain": [
       "None"
      ]
     },
     "metadata": {},
     "output_type": "display_data"
    },
    {
     "name": "stdout",
     "output_type": "stream",
     "text": [
      "<class 'pandas.core.frame.DataFrame'>\n",
      "RangeIndex: 322 entries, 0 to 321\n",
      "Data columns (total 13 columns):\n",
      " #   Column                                                            Non-Null Count  Dtype         \n",
      "---  ------                                                            --------------  -----         \n",
      " 0   Отметка времени                                                   320 non-null    datetime64[ns]\n",
      " 1   Профиль телеграмм (в формате @username)                           321 non-null    object        \n",
      " 2   Часовой пояс                                                      322 non-null    object        \n",
      " 3   Стек технологий                                                   321 non-null    object        \n",
      " 4   По какой специальности SF хотите заявиться?                       322 non-null    object        \n",
      " 5   Роль                                                              322 non-null    object        \n",
      " 6   В какой роли видите себя в проекте?                               322 non-null    object        \n",
      " 7   Сколько часов в неделю готовы уделять проекту?                    322 non-null    object        \n",
      " 8   Какие другие курсы закончили или находитесь в процессе обучения?  322 non-null    object        \n",
      " 9   Как долго учитесь на курсах?                                      322 non-null    object        \n",
      " 10  Notes                                                             99 non-null     object        \n",
      " 11  ЯП                                                                205 non-null    object        \n",
      " 12  Вступление в чат практики.                                        322 non-null    object        \n",
      "dtypes: datetime64[ns](1), object(12)\n",
      "memory usage: 32.8+ KB\n"
     ]
    },
    {
     "data": {
      "text/plain": [
       "None"
      ]
     },
     "metadata": {},
     "output_type": "display_data"
    }
   ],
   "source": [
    "display(draft1_df.info())\n",
    "display(draft1_df.info())"
   ]
  },
  {
   "cell_type": "code",
   "execution_count": 11,
   "id": "cef48865-58ab-464e-976f-a41f2434b578",
   "metadata": {},
   "outputs": [
    {
     "data": {
      "text/plain": [
       "Отметка времени                                                       2\n",
       "Профиль телеграмм (в формате @username)                               1\n",
       "Часовой пояс                                                          0\n",
       "Стек технологий                                                       1\n",
       "По какой специальности SF хотите заявиться?                           0\n",
       "Роль                                                                  0\n",
       "В какой роли видите себя в проекте?                                   0\n",
       "Сколько часов в неделю готовы уделять проекту?                        0\n",
       "Какие другие курсы закончили или находитесь в процессе обучения?      0\n",
       "Как долго учитесь на курсах?                                          0\n",
       "Notes                                                               223\n",
       "ЯП                                                                  117\n",
       "Вступление в чат практики.                                            0\n",
       "dtype: int64"
      ]
     },
     "metadata": {},
     "output_type": "display_data"
    },
    {
     "data": {
      "text/plain": [
       "Отметка времени                                                       2\n",
       "Профиль телеграмм (в формате @username)                               1\n",
       "Часовой пояс                                                          0\n",
       "Стек технологий                                                       1\n",
       "По какой специальности SF хотите заявиться?                           0\n",
       "Роль                                                                  0\n",
       "В какой роли видите себя в проекте?                                   0\n",
       "Сколько часов в неделю готовы уделять проекту?                        0\n",
       "Какие другие курсы закончили или находитесь в процессе обучения?      0\n",
       "Как долго учитесь на курсах?                                          0\n",
       "Notes                                                               223\n",
       "ЯП                                                                  117\n",
       "Вступление в чат практики.                                            0\n",
       "dtype: int64"
      ]
     },
     "metadata": {},
     "output_type": "display_data"
    }
   ],
   "source": [
    "display(draft1_df.isna().sum(axis='index'))\n",
    "display(draft2_df.isna().sum(axis='index'))"
   ]
  },
  {
   "cell_type": "code",
   "execution_count": 5,
   "id": "a79c253b-25ec-49d1-a4a7-ad6543abf16b",
   "metadata": {},
   "outputs": [
    {
     "data": {
      "text/plain": [
       "260"
      ]
     },
     "execution_count": 5,
     "metadata": {},
     "output_type": "execute_result"
    }
   ],
   "source": [
    "draft_df['Стек технологий'].nunique()"
   ]
  },
  {
   "cell_type": "code",
   "execution_count": 6,
   "id": "eb441caa",
   "metadata": {},
   "outputs": [],
   "source": [
    "draft_df.to_csv('data/anketa_1.csv')"
   ]
  }
 ],
 "metadata": {
  "kernelspec": {
   "display_name": "Python 3 (ipykernel)",
   "language": "python",
   "name": "python3"
  },
  "language_info": {
   "codemirror_mode": {
    "name": "ipython",
    "version": 3
   },
   "file_extension": ".py",
   "mimetype": "text/x-python",
   "name": "python",
   "nbconvert_exporter": "python",
   "pygments_lexer": "ipython3",
   "version": "3.10.11"
  }
 },
 "nbformat": 4,
 "nbformat_minor": 5
}
