{
 "cells": [
  {
   "cell_type": "code",
   "execution_count": 23,
   "id": "5cd6571b-bd77-43f5-be11-d464cd3c268b",
   "metadata": {},
   "outputs": [],
   "source": [
    "import sqlalchemy as sa\n",
    "from sqlalchemy.orm import declarative_base, Session"
   ]
  },
  {
   "cell_type": "code",
   "execution_count": 24,
   "id": "edb43547-2739-41a2-8c7d-dc7ef1d8b53b",
   "metadata": {},
   "outputs": [],
   "source": [
    "DB_PATH = 'sqlite:///model3.sqlite3'\n",
    "Base = declarative_base()\n",
    "ENGINE = sa.create_engine(DB_PATH)"
   ]
  },
  {
   "cell_type": "code",
   "execution_count": 25,
   "id": "ada532db-9b0f-4109-baa8-8fbd9ae13ac4",
   "metadata": {},
   "outputs": [],
   "source": [
    "class Model_Base(Base):\n",
    "    __tablename__ = 'Students'\n",
    "    uid = sa.Column(sa.Integer(), nullable=False, unique=True, primary_key=True, autoincrement=True)\n",
    "    date = sa.Column(sa.String())\n",
    "    tg_id = sa.Column(sa.Text())\n",
    "    timezone = sa.Column(sa.String())\n",
    "    stack = sa.Column(sa.Text())\n",
    "    occupation = sa.Column(sa.Text())\n",
    "    role = sa.Column(sa.Text())\n",
    "    project_role = sa.Column(sa.Text())\n",
    "    weekload = sa.Column(sa.Text())\n",
    "    course = sa.Column(sa.Text())\n",
    "    course_time = sa.Column(sa.Text())\n",
    "    notes = sa.Column(sa.Text())\n",
    "    pl = sa.Column(sa.String())\n",
    "    chat = sa.Column(sa.String())\n",
    "    exited = sa.Column(sa.Text())\n",
    "    prediction = sa.Column(sa.Float())\n"
   ]
  },
  {
   "cell_type": "code",
   "execution_count": 26,
   "id": "71b9f7ff-7934-4375-8c0e-244f9b1c0d99",
   "metadata": {},
   "outputs": [],
   "source": [
    "Base.metadata.create_all(ENGINE)"
   ]
  },
  {
   "cell_type": "code",
   "execution_count": 27,
   "id": "731e40a1-825f-4607-9a53-fc842604b80b",
   "metadata": {},
   "outputs": [],
   "source": [
    "old_cols = [\n",
    "    'Отметка времени',\n",
    "    'Профиль телеграмм (в формате @username)',\n",
    "    'Часовой пояс',\n",
    "    'Стек технологий',\n",
    "    'По какой специальности SF хотите заявиться?',\n",
    "    'Роль',\n",
    "    'В какой роли видите себя в проекте?',\n",
    "    'Сколько часов в неделю готовы уделять проекту?',\n",
    "    'Какие другие курсы закончили или находитесь в процессе обучения?',\n",
    "    'Как долго учитесь на курсах?',\n",
    "    'Notes',\n",
    "    'ЯП',\n",
    "    'Вступление в чат практики.',\n",
    "    'Выбыл'\n",
    "]\n",
    "new_cols = [\n",
    "    'date',\n",
    "    'tg_id',\n",
    "    'timezone',\n",
    "    'stack',\n",
    "    'occupation',\n",
    "    'role',\n",
    "    'project_role',\n",
    "    'weekload',\n",
    "    'course',\n",
    "    'course_time',\n",
    "    'notes',\n",
    "    'pl',\n",
    "    'chat',\n",
    "    'exited'\n",
    "]\n"
   ]
  },
  {
   "cell_type": "code",
   "execution_count": 28,
   "id": "012e32e5-21ba-41aa-9668-0aff2b41d388",
   "metadata": {},
   "outputs": [],
   "source": [
    "import uuid\n",
    "import pandas as pd"
   ]
  },
  {
   "cell_type": "code",
   "execution_count": 29,
   "id": "6e4cc35c-9a4c-4624-9d8d-63e372269376",
   "metadata": {},
   "outputs": [],
   "source": [
    "ini_df = pd.read_csv('data/anketa_ini.csv')"
   ]
  },
  {
   "cell_type": "code",
   "execution_count": 30,
   "id": "b13ffbe8-d22c-426e-adf6-763460869aa6",
   "metadata": {},
   "outputs": [
    {
     "name": "stdout",
     "output_type": "stream",
     "text": [
      "<class 'pandas.core.frame.DataFrame'>\n",
      "RangeIndex: 322 entries, 0 to 321\n",
      "Data columns (total 14 columns):\n",
      " #   Column        Non-Null Count  Dtype \n",
      "---  ------        --------------  ----- \n",
      " 0   date          320 non-null    object\n",
      " 1   tg_id         322 non-null    object\n",
      " 2   timezone      322 non-null    object\n",
      " 3   stack         321 non-null    object\n",
      " 4   occupation    322 non-null    object\n",
      " 5   role          322 non-null    object\n",
      " 6   project_role  322 non-null    object\n",
      " 7   weekload      322 non-null    object\n",
      " 8   course        322 non-null    object\n",
      " 9   course_time   322 non-null    object\n",
      " 10  notes         99 non-null     object\n",
      " 11  pl            205 non-null    object\n",
      " 12  chat          322 non-null    object\n",
      " 13  exited        63 non-null     object\n",
      "dtypes: object(14)\n",
      "memory usage: 35.3+ KB\n"
     ]
    }
   ],
   "source": [
    "def map_names(old_list: list, new_list: list) -> dict:\n",
    "    dict_ = dict()\n",
    "    if len(old_list) == len(new_list):\n",
    "        for old_name, new_name in zip(old_list, new_list):\n",
    "            dict_[old_name] = new_name\n",
    "    return dict_\n",
    "\n",
    "ini_df.rename(columns=map_names(old_cols, new_cols), inplace=True)\n",
    "ini_df.info()"
   ]
  },
  {
   "cell_type": "code",
   "execution_count": 31,
   "id": "d3797b5a-7cd2-45a1-b0a9-7c02a00e2471",
   "metadata": {},
   "outputs": [
    {
     "data": {
      "text/plain": [
       "0      0.60\n",
       "1      0.79\n",
       "2      0.65\n",
       "3      0.61\n",
       "4      0.78\n",
       "       ... \n",
       "317    0.93\n",
       "318    0.10\n",
       "319    0.06\n",
       "320    0.24\n",
       "321    0.33\n",
       "Name: prediction, Length: 322, dtype: float64"
      ]
     },
     "metadata": {},
     "output_type": "display_data"
    }
   ],
   "source": [
    "from random import random\n",
    "ini_df['prediction'] = round(random(), 2)\n",
    "ini_df['prediction'] = ini_df['prediction'].apply(lambda x: round(random(), 2))\n",
    "display(ini_df.prediction)"
   ]
  },
  {
   "cell_type": "code",
   "execution_count": 32,
   "id": "8375a94c",
   "metadata": {},
   "outputs": [
    {
     "data": {
      "text/plain": [
       "\"\\nfor i_ in range(ini_df.shape[0]):\\n    tg_id_ = ini_df.tg_id.iloc[i_]\\n    project_role_ = ini_df.project_role.iloc[i_]\\n    # display(ini_df[['tg_id', 'project_role']].iloc[i_])\\n    print(f'Name={tg_id_}, Role={project_role_}')\\n\""
      ]
     },
     "execution_count": 32,
     "metadata": {},
     "output_type": "execute_result"
    }
   ],
   "source": [
    "'''\n",
    "for i_ in range(ini_df.shape[0]):\n",
    "    tg_id_ = ini_df.tg_id.iloc[i_]\n",
    "    project_role_ = ini_df.project_role.iloc[i_]\n",
    "    # display(ini_df[['tg_id', 'project_role']].iloc[i_])\n",
    "    print(f'Name={tg_id_}, Role={project_role_}')\n",
    "'''"
   ]
  },
  {
   "cell_type": "code",
   "execution_count": 33,
   "id": "15291bbe-fca0-4bcc-b7be-3eeede772e77",
   "metadata": {},
   "outputs": [],
   "source": [
    "'''\n",
    "with Session(ENGINE) as s_:\n",
    "    for tg_name in ini_df['tg_id']:\n",
    "        new_line = Model_Base(\n",
    "            tg_id=tg_name,\n",
    "            prediction=round(random(), 2)\n",
    "            )\n",
    "        s_.add(new_line)\n",
    "    s_.commit()\n",
    "'''\n",
    "with Session(ENGINE) as s_:\n",
    "    for index_ in range(ini_df.shape[0]):\n",
    "        tg_id_ = ini_df.tg_id.iloc[index_]\n",
    "        project_role_ = ini_df.project_role.iloc[index_]\n",
    "        prediction_ = ini_df.prediction.iloc[index_]\n",
    "        new_line_ = Model_Base(\n",
    "            tg_id=tg_id_,\n",
    "            project_role=project_role_,\n",
    "            prediction=prediction_\n",
    "            )\n",
    "        s_.add(new_line_)\n",
    "    s_.commit()\n"
   ]
  },
  {
   "cell_type": "code",
   "execution_count": 35,
   "id": "969a75ff-b29b-4ff1-8bb7-67280b3475a6",
   "metadata": {},
   "outputs": [],
   "source": [
    "output_list = []\n",
    "with Session(ENGINE) as t_:\n",
    "    all_predictions = t_.query(Model_Base).all()\n",
    "for student in all_predictions:\n",
    "    output_list.append({'tg_id': student.tg_id, 'project_role': student.project_role, 'prediction': student.prediction})\n",
    "# print(output_list)"
   ]
  },
  {
   "cell_type": "code",
   "execution_count": null,
   "id": "0b254c96-9c78-4975-80a1-219b397e2f46",
   "metadata": {},
   "outputs": [],
   "source": []
  }
 ],
 "metadata": {
  "kernelspec": {
   "display_name": "Python 3 (ipykernel)",
   "language": "python",
   "name": "python3"
  },
  "language_info": {
   "codemirror_mode": {
    "name": "ipython",
    "version": 3
   },
   "file_extension": ".py",
   "mimetype": "text/x-python",
   "name": "python",
   "nbconvert_exporter": "python",
   "pygments_lexer": "ipython3",
   "version": "3.10.11"
  }
 },
 "nbformat": 4,
 "nbformat_minor": 5
}
