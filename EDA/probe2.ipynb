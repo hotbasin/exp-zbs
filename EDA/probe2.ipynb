{
 "cells": [
  {
   "cell_type": "code",
   "execution_count": 2,
   "id": "5cd6571b-bd77-43f5-be11-d464cd3c268b",
   "metadata": {},
   "outputs": [],
   "source": [
    "import uuid\n",
    "from random import random\n",
    "\n",
    "import pandas as pd\n",
    "import sqlalchemy as sa\n",
    "from sqlalchemy.orm import declarative_base, Session"
   ]
  },
  {
   "cell_type": "markdown",
   "id": "dbf1f3b9-5724-4e98-9608-28c6872475fb",
   "metadata": {},
   "source": [
    "## Организация БД в SQLAlchemy ORM ##"
   ]
  },
  {
   "cell_type": "code",
   "execution_count": 3,
   "id": "edb43547-2739-41a2-8c7d-dc7ef1d8b53b",
   "metadata": {},
   "outputs": [],
   "source": [
    "DB_PATH = 'sqlite:///model3.sqlite3'\n",
    "Base = declarative_base()\n",
    "ENGINE = sa.create_engine(DB_PATH)"
   ]
  },
  {
   "cell_type": "code",
   "execution_count": 4,
   "id": "ada532db-9b0f-4109-baa8-8fbd9ae13ac4",
   "metadata": {},
   "outputs": [],
   "source": [
    "'''\n",
    "class Model_Base(Base):\n",
    "    __tablename__ = 'Students'\n",
    "    uid = sa.Column(sa.Integer(), nullable=False, unique=True, primary_key=True, autoincrement=True)\n",
    "    date = sa.Column(sa.String())\n",
    "    tg_id = sa.Column(sa.Text())\n",
    "    time_zone = sa.Column(sa.String())\n",
    "    tech_stack = sa.Column(sa.Text())\n",
    "    occupation = sa.Column(sa.Text())\n",
    "    role = sa.Column(sa.Text())\n",
    "    project_role = sa.Column(sa.Text())\n",
    "    weekload = sa.Column(sa.Text())\n",
    "    course = sa.Column(sa.Text())\n",
    "    course_time = sa.Column(sa.Text())\n",
    "    notes = sa.Column(sa.Text())\n",
    "    pl = sa.Column(sa.String())\n",
    "    chat = sa.Column(sa.String())\n",
    "    exited = sa.Column(sa.Text())\n",
    "    prediction = sa.Column(sa.Float())\n",
    "'''\n",
    "class Model_Base(Base):\n",
    "    __tablename__ = 'Students'\n",
    "    uid = sa.Column(sa.Integer(), nullable=False, unique=True, primary_key=True, autoincrement=True)\n",
    "    date = sa.Column(sa.String())\n",
    "    id = sa.Column(sa.Text())\n",
    "    utc = sa.Column(sa.String())\n",
    "    steck = sa.Column(sa.Text())\n",
    "    spec = sa.Column(sa.Text())\n",
    "    role = sa.Column(sa.Text())\n",
    "    role_in = sa.Column(sa.Text())\n",
    "    hour_per_week = sa.Column(sa.Text())\n",
    "    other_courses = sa.Column(sa.Text())\n",
    "    time_of_studies = sa.Column(sa.Text())\n",
    "    notes = sa.Column(sa.Text())\n",
    "    language = sa.Column(sa.String())\n",
    "    in_chat = sa.Column(sa.String())\n",
    "    out = sa.Column(sa.Text())\n",
    "    prediction = sa.Column(sa.Float())"
   ]
  },
  {
   "cell_type": "code",
   "execution_count": 5,
   "id": "71b9f7ff-7934-4375-8c0e-244f9b1c0d99",
   "metadata": {},
   "outputs": [],
   "source": [
    "Base.metadata.create_all(ENGINE)"
   ]
  },
  {
   "cell_type": "markdown",
   "id": "26baeb88-eb44-4712-b740-cc3ed5fc94e4",
   "metadata": {},
   "source": [
    "## Чтение из файла ##"
   ]
  },
  {
   "cell_type": "code",
   "execution_count": 6,
   "id": "6e4cc35c-9a4c-4624-9d8d-63e372269376",
   "metadata": {},
   "outputs": [],
   "source": [
    "# ini_df = pd.read_csv('data/anketa_ini.csv')\n",
    "# ini_df = pd.read_csv('data/anketa_ini.csv', sep=';', encoding='utf-8')\n",
    "ini_df = pd.read_excel('data/anketa_ini.xlsx')"
   ]
  },
  {
   "cell_type": "markdown",
   "id": "d2300a98-56c7-4d55-8f0a-9842da0b3e73",
   "metadata": {},
   "source": [
    "## Маппинг для переименования колонок из файла в базу ##"
   ]
  },
  {
   "cell_type": "code",
   "execution_count": 8,
   "id": "731e40a1-825f-4607-9a53-fc842604b80b",
   "metadata": {},
   "outputs": [],
   "source": [
    "old_cols = [\n",
    "    'Отметка времени',\n",
    "    'Профиль телеграмм (в формате @username)',\n",
    "    'Часовой пояс',\n",
    "    'Стек технологий',\n",
    "    'По какой специальности SF хотите заявиться?',\n",
    "    'Роль',\n",
    "    'В какой роли видите себя в проекте?',\n",
    "    'Сколько часов в неделю готовы уделять проекту?',\n",
    "    'Какие другие курсы закончили или находитесь в процессе обучения?',\n",
    "    'Как долго учитесь на курсах?',\n",
    "    'Notes',\n",
    "    'ЯП',\n",
    "    'Вступление в чат практики.',\n",
    "    'Выбыл'\n",
    "]\n",
    "'''\n",
    "new_cols = [\n",
    "    'date',\n",
    "    'tg_id',\n",
    "    'time_zone',\n",
    "    'tech_stack',\n",
    "    'occupation',\n",
    "    'role',\n",
    "    'project_role',\n",
    "    'weekload',\n",
    "    'course',\n",
    "    'course_time',\n",
    "    'notes',\n",
    "    'pl',\n",
    "    'chat',\n",
    "    'exited'\n",
    "]\n",
    "'''\n",
    "new_cols = [\n",
    "    'date',\n",
    "    'id',\n",
    "    'utc',\n",
    "    'steck',\n",
    "    'spec',\n",
    "    'role',\n",
    "    'role_in',\n",
    "    'hour_per_week',\n",
    "    'other_courses',\n",
    "    'time_of_studies',\n",
    "    'notes',\n",
    "    'language',\n",
    "    'in_chat',\n",
    "    'out'\n",
    "]"
   ]
  },
  {
   "cell_type": "code",
   "execution_count": 9,
   "id": "b13ffbe8-d22c-426e-adf6-763460869aa6",
   "metadata": {},
   "outputs": [
    {
     "name": "stdout",
     "output_type": "stream",
     "text": [
      "<class 'pandas.core.frame.DataFrame'>\n",
      "RangeIndex: 322 entries, 0 to 321\n",
      "Data columns (total 14 columns):\n",
      " #   Column           Non-Null Count  Dtype         \n",
      "---  ------           --------------  -----         \n",
      " 0   date             320 non-null    datetime64[ns]\n",
      " 1   id               321 non-null    object        \n",
      " 2   utc              322 non-null    object        \n",
      " 3   steck            321 non-null    object        \n",
      " 4   spec             322 non-null    object        \n",
      " 5   role             322 non-null    object        \n",
      " 6   role_in          322 non-null    object        \n",
      " 7   hour_per_week    322 non-null    object        \n",
      " 8   other_courses    322 non-null    object        \n",
      " 9   time_of_studies  322 non-null    object        \n",
      " 10  notes            99 non-null     object        \n",
      " 11  language         205 non-null    object        \n",
      " 12  in_chat          322 non-null    object        \n",
      " 13  out              31 non-null     object        \n",
      "dtypes: datetime64[ns](1), object(13)\n",
      "memory usage: 35.3+ KB\n"
     ]
    }
   ],
   "source": [
    "def map_names(old_list: list, new_list: list) -> dict:\n",
    "    dict_ = dict()\n",
    "    if len(old_list) == len(new_list):\n",
    "        for old_name, new_name in zip(old_list, new_list):\n",
    "            dict_[old_name] = new_name\n",
    "    return dict_\n",
    "\n",
    "ini_df.rename(columns=map_names(old_cols, new_cols), inplace=True)\n",
    "ini_df.info()"
   ]
  },
  {
   "cell_type": "markdown",
   "id": "2847ef1d",
   "metadata": {},
   "source": [
    "## Преобразование **`time_stamp`** пока в текст ##"
   ]
  },
  {
   "cell_type": "code",
   "execution_count": 10,
   "id": "7fc5d4b6",
   "metadata": {},
   "outputs": [],
   "source": [
    "# ini_df.time_stamp = ini_df.time_stamp.apply(lambda x: str(x))\n",
    "ini_df.date = ini_df.date.apply(lambda x: str(x))"
   ]
  },
  {
   "cell_type": "markdown",
   "id": "684b61be-cff7-4de1-9428-db6995457ab9",
   "metadata": {},
   "source": [
    "## Заполнение отсутствующих tg-погонял ##"
   ]
  },
  {
   "cell_type": "code",
   "execution_count": 11,
   "id": "fcaeefab-b330-4f7e-a17e-c60cf34b4b82",
   "metadata": {},
   "outputs": [
    {
     "name": "stdout",
     "output_type": "stream",
     "text": [
      "<class 'pandas.core.frame.DataFrame'>\n",
      "RangeIndex: 322 entries, 0 to 321\n",
      "Data columns (total 14 columns):\n",
      " #   Column           Non-Null Count  Dtype \n",
      "---  ------           --------------  ----- \n",
      " 0   date             322 non-null    object\n",
      " 1   id               322 non-null    object\n",
      " 2   utc              322 non-null    object\n",
      " 3   steck            321 non-null    object\n",
      " 4   spec             322 non-null    object\n",
      " 5   role             322 non-null    object\n",
      " 6   role_in          322 non-null    object\n",
      " 7   hour_per_week    322 non-null    object\n",
      " 8   other_courses    322 non-null    object\n",
      " 9   time_of_studies  322 non-null    object\n",
      " 10  notes            99 non-null     object\n",
      " 11  language         205 non-null    object\n",
      " 12  in_chat          322 non-null    object\n",
      " 13  out              31 non-null     object\n",
      "dtypes: object(14)\n",
      "memory usage: 35.3+ KB\n"
     ]
    }
   ],
   "source": [
    "ini_df['id'] = ini_df['id'].fillna(value='@unknown')\n",
    "ini_df.info()"
   ]
  },
  {
   "cell_type": "markdown",
   "id": "89cbb112-b96a-4ec0-9004-8757b9c7e367",
   "metadata": {},
   "source": [
    "## Запись нормального CSV-файла, с которым потом можно работать (sep='^' для уникальности) ##"
   ]
  },
  {
   "cell_type": "code",
   "execution_count": 12,
   "id": "4da6e861-9708-4f47-a625-bef0b37c57bd",
   "metadata": {},
   "outputs": [],
   "source": [
    "ini_df.to_csv('data/anketa_new.csv', sep='^', encoding='utf-8', index=False)"
   ]
  },
  {
   "cell_type": "markdown",
   "id": "20fcffd2-5b3e-4847-8165-758077cac8ea",
   "metadata": {},
   "source": [
    "## Добавка целевого признака **`prediction`** и забивка случайными значениями ##"
   ]
  },
  {
   "cell_type": "code",
   "execution_count": 13,
   "id": "d3797b5a-7cd2-45a1-b0a9-7c02a00e2471",
   "metadata": {},
   "outputs": [
    {
     "data": {
      "text/plain": [
       "0      0.88\n",
       "1      0.73\n",
       "2      0.71\n",
       "3      0.17\n",
       "4      0.83\n",
       "       ... \n",
       "317    0.75\n",
       "318    0.94\n",
       "319    0.85\n",
       "320    0.28\n",
       "321    0.19\n",
       "Name: prediction, Length: 322, dtype: float64"
      ]
     },
     "metadata": {},
     "output_type": "display_data"
    }
   ],
   "source": [
    "ini_df['prediction'] = round(random(), 2)\n",
    "ini_df['prediction'] = ini_df['prediction'].apply(lambda x: round(random(), 2))\n",
    "display(ini_df.prediction)"
   ]
  },
  {
   "cell_type": "markdown",
   "id": "f9084586-fc77-4399-9a40-8cadde8b3fd3",
   "metadata": {},
   "source": [
    "## Ручное изготовление БД и проверка ##"
   ]
  },
  {
   "cell_type": "code",
   "execution_count": 14,
   "id": "15291bbe-fca0-4bcc-b7be-3eeede772e77",
   "metadata": {},
   "outputs": [],
   "source": [
    "'''\n",
    "with Session(ENGINE) as s_:\n",
    "    for index_ in range(ini_df.shape[0]):\n",
    "        new_line_ = Model_Base(date=ini_df.date.iloc[index_],\n",
    "                               tg_id=ini_df.tg_id.iloc[index_],\n",
    "                               time_zone=ini_df.time_zone.iloc[index_],\n",
    "                               tech_stack=ini_df.tech_stack.iloc[index_],\n",
    "                               occupation=ini_df.occupation.iloc[index_],\n",
    "                               role=ini_df.role.iloc[index_],\n",
    "                               project_role=ini_df.project_role.iloc[index_],\n",
    "                               weekload=ini_df.weekload.iloc[index_],\n",
    "                               course=ini_df.course.iloc[index_],\n",
    "                               course_time=ini_df.course_time.iloc[index_],\n",
    "                               notes=ini_df.notes.iloc[index_],\n",
    "                               pl=ini_df.pl.iloc[index_],\n",
    "                               chat=ini_df.chat.iloc[index_],\n",
    "                               exited=ini_df.exited.iloc[index_],\n",
    "                               prediction=ini_df.prediction.iloc[index_]\n",
    "                              )\n",
    "        s_.add(new_line_)\n",
    "    s_.commit()\n",
    "'''\n",
    "with Session(ENGINE) as s_:\n",
    "    for index_ in range(ini_df.shape[0]):\n",
    "        new_line_ = Model_Base(date=ini_df.date.iloc[index_],\n",
    "                               id=ini_df.id.iloc[index_],\n",
    "                               utc=ini_df.utc.iloc[index_],\n",
    "                               steck=ini_df.steck.iloc[index_],\n",
    "                               spec=ini_df.spec.iloc[index_],\n",
    "                               role=ini_df.role.iloc[index_],\n",
    "                               role_in=ini_df.role_in.iloc[index_],\n",
    "                               hour_per_week=ini_df.hour_per_week.iloc[index_],\n",
    "                               other_courses=ini_df.other_courses.iloc[index_],\n",
    "                               time_of_studies=ini_df.time_of_studies.iloc[index_],\n",
    "                               notes=ini_df.notes.iloc[index_],\n",
    "                               language=ini_df.language.iloc[index_],\n",
    "                               in_chat=ini_df.in_chat.iloc[index_],\n",
    "                               out=ini_df.out.iloc[index_],\n",
    "                               prediction=ini_df.prediction.iloc[index_]\n",
    "                              )\n",
    "        s_.add(new_line_)\n",
    "    s_.commit()"
   ]
  },
  {
   "cell_type": "code",
   "execution_count": 17,
   "id": "969a75ff-b29b-4ff1-8bb7-67280b3475a6",
   "metadata": {},
   "outputs": [],
   "source": [
    "output_list = []\n",
    "with Session(ENGINE) as t_:\n",
    "    all_predictions = t_.query(Model_Base).all()\n",
    "for student in all_predictions:\n",
    "    output_list.append({'id': student.id,\n",
    "                        'role_in': student.role_in,\n",
    "                        'prediction': student.prediction\n",
    "                      })\n",
    "##### print(output_list)"
   ]
  },
  {
   "cell_type": "code",
   "execution_count": null,
   "id": "0b254c96-9c78-4975-80a1-219b397e2f46",
   "metadata": {},
   "outputs": [],
   "source": []
  }
 ],
 "metadata": {
  "kernelspec": {
   "display_name": "Python 3 (ipykernel)",
   "language": "python",
   "name": "python3"
  },
  "language_info": {
   "codemirror_mode": {
    "name": "ipython",
    "version": 3
   },
   "file_extension": ".py",
   "mimetype": "text/x-python",
   "name": "python",
   "nbconvert_exporter": "python",
   "pygments_lexer": "ipython3",
   "version": "3.10.11"
  }
 },
 "nbformat": 4,
 "nbformat_minor": 5
}
