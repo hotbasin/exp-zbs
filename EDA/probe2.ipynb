{
 "cells": [
  {
   "cell_type": "code",
   "execution_count": 33,
   "id": "5cd6571b-bd77-43f5-be11-d464cd3c268b",
   "metadata": {},
   "outputs": [],
   "source": [
    "import sqlalchemy as sa\n",
    "from sqlalchemy.orm import declarative_base, Session"
   ]
  },
  {
   "cell_type": "code",
   "execution_count": 34,
   "id": "edb43547-2739-41a2-8c7d-dc7ef1d8b53b",
   "metadata": {},
   "outputs": [],
   "source": [
    "DB_PATH = 'sqlite:///model2.sqlite3'\n",
    "Base = declarative_base()\n",
    "ENGINE = sa.create_engine(DB_PATH)"
   ]
  },
  {
   "cell_type": "code",
   "execution_count": 35,
   "id": "ada532db-9b0f-4109-baa8-8fbd9ae13ac4",
   "metadata": {},
   "outputs": [],
   "source": [
    "class Model_Base(Base):\n",
    "    __tablename__ = 'Students'\n",
    "    uid = sa.Column(sa.Integer(), nullable=False, unique=True, primary_key=True, autoincrement=True)\n",
    "    date = sa.Column(sa.String())\n",
    "    tg_id = sa.Column(sa.Text())\n",
    "    timezone = sa.Column(sa.String())\n",
    "    stack = sa.Column(sa.Text())\n",
    "    occupation = sa.Column(sa.Text())\n",
    "    role = sa.Column(sa.Text())\n",
    "    project_role = sa.Column(sa.Text())\n",
    "    weekload = sa.Column(sa.Text())\n",
    "    course = sa.Column(sa.Text())\n",
    "    course_time = sa.Column(sa.Text())\n",
    "    notes = sa.Column(sa.Text())\n",
    "    pl = sa.Column(sa.String())\n",
    "    chat = sa.Column(sa.String())\n",
    "    exited = sa.Column(sa.Text())\n",
    "    prediction = sa.Column(sa.Float())\n"
   ]
  },
  {
   "cell_type": "code",
   "execution_count": 36,
   "id": "71b9f7ff-7934-4375-8c0e-244f9b1c0d99",
   "metadata": {},
   "outputs": [],
   "source": [
    "Base.metadata.create_all(ENGINE)"
   ]
  },
  {
   "cell_type": "code",
   "execution_count": 37,
   "id": "731e40a1-825f-4607-9a53-fc842604b80b",
   "metadata": {},
   "outputs": [],
   "source": [
    "old_cols = [\n",
    "    'Отметка времени',\n",
    "    'Профиль телеграмм (в формате @username)',\n",
    "    'Часовой пояс',\n",
    "    'Стек технологий',\n",
    "    'По какой специальности SF хотите заявиться?',\n",
    "    'Роль',\n",
    "    'В какой роли видите себя в проекте?',\n",
    "    'Сколько часов в неделю готовы уделять проекту?',\n",
    "    'Какие другие курсы закончили или находитесь в процессе обучения?',\n",
    "    'Как долго учитесь на курсах?',\n",
    "    'Notes',\n",
    "    'ЯП',\n",
    "    'Вступление в чат практики.',\n",
    "    'Выбыл'\n",
    "]\n",
    "new_cols = [\n",
    "    'date',\n",
    "    'tg_id',\n",
    "    'timezone',\n",
    "    'stack',\n",
    "    'occupation',\n",
    "    'role',\n",
    "    'project_role',\n",
    "    'weekload',\n",
    "    'course',\n",
    "    'course_time',\n",
    "    'notes',\n",
    "    'pl',\n",
    "    'chat',\n",
    "    'exited'\n",
    "]\n"
   ]
  },
  {
   "cell_type": "code",
   "execution_count": 38,
   "id": "012e32e5-21ba-41aa-9668-0aff2b41d388",
   "metadata": {},
   "outputs": [],
   "source": [
    "import uuid\n",
    "import pandas as pd"
   ]
  },
  {
   "cell_type": "code",
   "execution_count": 39,
   "id": "6e4cc35c-9a4c-4624-9d8d-63e372269376",
   "metadata": {},
   "outputs": [],
   "source": [
    "ini_df = pd.read_csv('data/anketa_ini.csv')"
   ]
  },
  {
   "cell_type": "code",
   "execution_count": 40,
   "id": "b13ffbe8-d22c-426e-adf6-763460869aa6",
   "metadata": {},
   "outputs": [
    {
     "name": "stdout",
     "output_type": "stream",
     "text": [
      "<class 'pandas.core.frame.DataFrame'>\n",
      "RangeIndex: 322 entries, 0 to 321\n",
      "Data columns (total 14 columns):\n",
      " #   Column        Non-Null Count  Dtype \n",
      "---  ------        --------------  ----- \n",
      " 0   date          320 non-null    object\n",
      " 1   tg_id         321 non-null    object\n",
      " 2   timezone      322 non-null    object\n",
      " 3   stack         321 non-null    object\n",
      " 4   occupation    322 non-null    object\n",
      " 5   role          322 non-null    object\n",
      " 6   project_role  322 non-null    object\n",
      " 7   weekload      322 non-null    object\n",
      " 8   course        322 non-null    object\n",
      " 9   course_time   322 non-null    object\n",
      " 10  notes         99 non-null     object\n",
      " 11  pl            205 non-null    object\n",
      " 12  chat          322 non-null    object\n",
      " 13  exited        63 non-null     object\n",
      "dtypes: object(14)\n",
      "memory usage: 35.3+ KB\n"
     ]
    }
   ],
   "source": [
    "def map_names(old_list: list, new_list: list) -> dict:\n",
    "    dict_ = dict()\n",
    "    if len(old_list) == len(new_list):\n",
    "        for old_name, new_name in zip(old_list, new_list):\n",
    "            dict_[old_name] = new_name\n",
    "    return dict_\n",
    "\n",
    "ini_df.rename(columns=map_names(old_cols, new_cols), inplace=True)\n",
    "ini_df.info()"
   ]
  },
  {
   "cell_type": "code",
   "execution_count": null,
   "id": "43b7aa5e-eea6-4306-a621-9abf3e695c20",
   "metadata": {},
   "outputs": [],
   "source": []
  }
 ],
 "metadata": {
  "kernelspec": {
   "display_name": "Python 3 (ipykernel)",
   "language": "python",
   "name": "python3"
  },
  "language_info": {
   "codemirror_mode": {
    "name": "ipython",
    "version": 3
   },
   "file_extension": ".py",
   "mimetype": "text/x-python",
   "name": "python",
   "nbconvert_exporter": "python",
   "pygments_lexer": "ipython3",
   "version": "3.10.11"
  }
 },
 "nbformat": 4,
 "nbformat_minor": 5
}
