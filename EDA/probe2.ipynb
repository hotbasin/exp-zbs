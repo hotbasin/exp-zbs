{
 "cells": [
  {
   "cell_type": "code",
   "execution_count": 2,
   "id": "5cd6571b-bd77-43f5-be11-d464cd3c268b",
   "metadata": {},
   "outputs": [],
   "source": [
    "import sqlalchemy as sa\n",
    "from sqlalchemy.orm import declarative_base, Session"
   ]
  },
  {
   "cell_type": "code",
   "execution_count": 3,
   "id": "edb43547-2739-41a2-8c7d-dc7ef1d8b53b",
   "metadata": {},
   "outputs": [],
   "source": [
    "DB_PATH = 'sqlite:///model3.sqlite3'\n",
    "Base = declarative_base()\n",
    "ENGINE = sa.create_engine(DB_PATH)"
   ]
  },
  {
   "cell_type": "code",
   "execution_count": 4,
   "id": "ada532db-9b0f-4109-baa8-8fbd9ae13ac4",
   "metadata": {},
   "outputs": [],
   "source": [
    "class Model_Base(Base):\n",
    "    __tablename__ = 'Students'\n",
    "    uid = sa.Column(sa.Integer(), nullable=False, unique=True, primary_key=True, autoincrement=True)\n",
    "    date = sa.Column(sa.String())\n",
    "    tg_id = sa.Column(sa.Text())\n",
    "    timezone = sa.Column(sa.String())\n",
    "    stack = sa.Column(sa.Text())\n",
    "    occupation = sa.Column(sa.Text())\n",
    "    role = sa.Column(sa.Text())\n",
    "    project_role = sa.Column(sa.Text())\n",
    "    weekload = sa.Column(sa.Text())\n",
    "    course = sa.Column(sa.Text())\n",
    "    course_time = sa.Column(sa.Text())\n",
    "    notes = sa.Column(sa.Text())\n",
    "    pl = sa.Column(sa.String())\n",
    "    chat = sa.Column(sa.String())\n",
    "    exited = sa.Column(sa.Text())\n",
    "    prediction = sa.Column(sa.Float())\n"
   ]
  },
  {
   "cell_type": "code",
   "execution_count": 5,
   "id": "71b9f7ff-7934-4375-8c0e-244f9b1c0d99",
   "metadata": {},
   "outputs": [],
   "source": [
    "Base.metadata.create_all(ENGINE)"
   ]
  },
  {
   "cell_type": "code",
   "execution_count": 6,
   "id": "731e40a1-825f-4607-9a53-fc842604b80b",
   "metadata": {},
   "outputs": [],
   "source": [
    "old_cols = [\n",
    "    'Отметка времени',\n",
    "    'Профиль телеграмм (в формате @username)',\n",
    "    'Часовой пояс',\n",
    "    'Стек технологий',\n",
    "    'По какой специальности SF хотите заявиться?',\n",
    "    'Роль',\n",
    "    'В какой роли видите себя в проекте?',\n",
    "    'Сколько часов в неделю готовы уделять проекту?',\n",
    "    'Какие другие курсы закончили или находитесь в процессе обучения?',\n",
    "    'Как долго учитесь на курсах?',\n",
    "    'Notes',\n",
    "    'ЯП',\n",
    "    'Вступление в чат практики.',\n",
    "    'Выбыл'\n",
    "]\n",
    "new_cols = [\n",
    "    'date',\n",
    "    'tg_id',\n",
    "    'timezone',\n",
    "    'stack',\n",
    "    'occupation',\n",
    "    'role',\n",
    "    'project_role',\n",
    "    'weekload',\n",
    "    'course',\n",
    "    'course_time',\n",
    "    'notes',\n",
    "    'pl',\n",
    "    'chat',\n",
    "    'exited'\n",
    "]\n"
   ]
  },
  {
   "cell_type": "code",
   "execution_count": 8,
   "id": "012e32e5-21ba-41aa-9668-0aff2b41d388",
   "metadata": {},
   "outputs": [],
   "source": [
    "import uuid\n",
    "import pandas as pd"
   ]
  },
  {
   "cell_type": "code",
   "execution_count": 13,
   "id": "6e4cc35c-9a4c-4624-9d8d-63e372269376",
   "metadata": {},
   "outputs": [
    {
     "ename": "UnicodeDecodeError",
     "evalue": "'utf-8' codec can't decode byte 0xce in position 0: invalid continuation byte",
     "output_type": "error",
     "traceback": [
      "\u001b[1;31m---------------------------------------------------------------------------\u001b[0m",
      "\u001b[1;31mUnicodeDecodeError\u001b[0m                        Traceback (most recent call last)",
      "Cell \u001b[1;32mIn[13], line 1\u001b[0m\n\u001b[1;32m----> 1\u001b[0m ini_df \u001b[38;5;241m=\u001b[39m \u001b[43mpd\u001b[49m\u001b[38;5;241;43m.\u001b[39;49m\u001b[43mread_csv\u001b[49m\u001b[43m(\u001b[49m\u001b[38;5;124;43m'\u001b[39;49m\u001b[38;5;124;43mdata/anketa_ini2.csv\u001b[39;49m\u001b[38;5;124;43m'\u001b[39;49m\u001b[43m,\u001b[49m\u001b[43m \u001b[49m\u001b[43msep\u001b[49m\u001b[38;5;241;43m=\u001b[39;49m\u001b[38;5;124;43m'\u001b[39;49m\u001b[38;5;124;43m;\u001b[39;49m\u001b[38;5;124;43m'\u001b[39;49m\u001b[43m,\u001b[49m\u001b[43m \u001b[49m\u001b[43mencoding\u001b[49m\u001b[38;5;241;43m=\u001b[39;49m\u001b[38;5;124;43m'\u001b[39;49m\u001b[38;5;124;43mutf-8\u001b[39;49m\u001b[38;5;124;43m'\u001b[39;49m\u001b[43m)\u001b[49m\n",
      "File \u001b[1;32mC:\\Programs\\Python310\\lib\\site-packages\\pandas\\io\\parsers\\readers.py:1024\u001b[0m, in \u001b[0;36mread_csv\u001b[1;34m(filepath_or_buffer, sep, delimiter, header, names, index_col, usecols, dtype, engine, converters, true_values, false_values, skipinitialspace, skiprows, skipfooter, nrows, na_values, keep_default_na, na_filter, verbose, skip_blank_lines, parse_dates, infer_datetime_format, keep_date_col, date_parser, date_format, dayfirst, cache_dates, iterator, chunksize, compression, thousands, decimal, lineterminator, quotechar, quoting, doublequote, escapechar, comment, encoding, encoding_errors, dialect, on_bad_lines, delim_whitespace, low_memory, memory_map, float_precision, storage_options, dtype_backend)\u001b[0m\n\u001b[0;32m   1011\u001b[0m kwds_defaults \u001b[38;5;241m=\u001b[39m _refine_defaults_read(\n\u001b[0;32m   1012\u001b[0m     dialect,\n\u001b[0;32m   1013\u001b[0m     delimiter,\n\u001b[1;32m   (...)\u001b[0m\n\u001b[0;32m   1020\u001b[0m     dtype_backend\u001b[38;5;241m=\u001b[39mdtype_backend,\n\u001b[0;32m   1021\u001b[0m )\n\u001b[0;32m   1022\u001b[0m kwds\u001b[38;5;241m.\u001b[39mupdate(kwds_defaults)\n\u001b[1;32m-> 1024\u001b[0m \u001b[38;5;28;01mreturn\u001b[39;00m \u001b[43m_read\u001b[49m\u001b[43m(\u001b[49m\u001b[43mfilepath_or_buffer\u001b[49m\u001b[43m,\u001b[49m\u001b[43m \u001b[49m\u001b[43mkwds\u001b[49m\u001b[43m)\u001b[49m\n",
      "File \u001b[1;32mC:\\Programs\\Python310\\lib\\site-packages\\pandas\\io\\parsers\\readers.py:618\u001b[0m, in \u001b[0;36m_read\u001b[1;34m(filepath_or_buffer, kwds)\u001b[0m\n\u001b[0;32m    615\u001b[0m _validate_names(kwds\u001b[38;5;241m.\u001b[39mget(\u001b[38;5;124m\"\u001b[39m\u001b[38;5;124mnames\u001b[39m\u001b[38;5;124m\"\u001b[39m, \u001b[38;5;28;01mNone\u001b[39;00m))\n\u001b[0;32m    617\u001b[0m \u001b[38;5;66;03m# Create the parser.\u001b[39;00m\n\u001b[1;32m--> 618\u001b[0m parser \u001b[38;5;241m=\u001b[39m TextFileReader(filepath_or_buffer, \u001b[38;5;241m*\u001b[39m\u001b[38;5;241m*\u001b[39mkwds)\n\u001b[0;32m    620\u001b[0m \u001b[38;5;28;01mif\u001b[39;00m chunksize \u001b[38;5;129;01mor\u001b[39;00m iterator:\n\u001b[0;32m    621\u001b[0m     \u001b[38;5;28;01mreturn\u001b[39;00m parser\n",
      "File \u001b[1;32mC:\\Programs\\Python310\\lib\\site-packages\\pandas\\io\\parsers\\readers.py:1618\u001b[0m, in \u001b[0;36mTextFileReader.__init__\u001b[1;34m(self, f, engine, **kwds)\u001b[0m\n\u001b[0;32m   1615\u001b[0m     \u001b[38;5;28mself\u001b[39m\u001b[38;5;241m.\u001b[39moptions[\u001b[38;5;124m\"\u001b[39m\u001b[38;5;124mhas_index_names\u001b[39m\u001b[38;5;124m\"\u001b[39m] \u001b[38;5;241m=\u001b[39m kwds[\u001b[38;5;124m\"\u001b[39m\u001b[38;5;124mhas_index_names\u001b[39m\u001b[38;5;124m\"\u001b[39m]\n\u001b[0;32m   1617\u001b[0m \u001b[38;5;28mself\u001b[39m\u001b[38;5;241m.\u001b[39mhandles: IOHandles \u001b[38;5;241m|\u001b[39m \u001b[38;5;28;01mNone\u001b[39;00m \u001b[38;5;241m=\u001b[39m \u001b[38;5;28;01mNone\u001b[39;00m\n\u001b[1;32m-> 1618\u001b[0m \u001b[38;5;28mself\u001b[39m\u001b[38;5;241m.\u001b[39m_engine \u001b[38;5;241m=\u001b[39m \u001b[38;5;28;43mself\u001b[39;49m\u001b[38;5;241;43m.\u001b[39;49m\u001b[43m_make_engine\u001b[49m\u001b[43m(\u001b[49m\u001b[43mf\u001b[49m\u001b[43m,\u001b[49m\u001b[43m \u001b[49m\u001b[38;5;28;43mself\u001b[39;49m\u001b[38;5;241;43m.\u001b[39;49m\u001b[43mengine\u001b[49m\u001b[43m)\u001b[49m\n",
      "File \u001b[1;32mC:\\Programs\\Python310\\lib\\site-packages\\pandas\\io\\parsers\\readers.py:1896\u001b[0m, in \u001b[0;36mTextFileReader._make_engine\u001b[1;34m(self, f, engine)\u001b[0m\n\u001b[0;32m   1893\u001b[0m     \u001b[38;5;28;01mraise\u001b[39;00m \u001b[38;5;167;01mValueError\u001b[39;00m(msg)\n\u001b[0;32m   1895\u001b[0m \u001b[38;5;28;01mtry\u001b[39;00m:\n\u001b[1;32m-> 1896\u001b[0m     \u001b[38;5;28;01mreturn\u001b[39;00m mapping[engine](f, \u001b[38;5;241m*\u001b[39m\u001b[38;5;241m*\u001b[39m\u001b[38;5;28mself\u001b[39m\u001b[38;5;241m.\u001b[39moptions)\n\u001b[0;32m   1897\u001b[0m \u001b[38;5;28;01mexcept\u001b[39;00m \u001b[38;5;167;01mException\u001b[39;00m:\n\u001b[0;32m   1898\u001b[0m     \u001b[38;5;28;01mif\u001b[39;00m \u001b[38;5;28mself\u001b[39m\u001b[38;5;241m.\u001b[39mhandles \u001b[38;5;129;01mis\u001b[39;00m \u001b[38;5;129;01mnot\u001b[39;00m \u001b[38;5;28;01mNone\u001b[39;00m:\n",
      "File \u001b[1;32mC:\\Programs\\Python310\\lib\\site-packages\\pandas\\io\\parsers\\c_parser_wrapper.py:93\u001b[0m, in \u001b[0;36mCParserWrapper.__init__\u001b[1;34m(self, src, **kwds)\u001b[0m\n\u001b[0;32m     90\u001b[0m \u001b[38;5;28;01mif\u001b[39;00m kwds[\u001b[38;5;124m\"\u001b[39m\u001b[38;5;124mdtype_backend\u001b[39m\u001b[38;5;124m\"\u001b[39m] \u001b[38;5;241m==\u001b[39m \u001b[38;5;124m\"\u001b[39m\u001b[38;5;124mpyarrow\u001b[39m\u001b[38;5;124m\"\u001b[39m:\n\u001b[0;32m     91\u001b[0m     \u001b[38;5;66;03m# Fail here loudly instead of in cython after reading\u001b[39;00m\n\u001b[0;32m     92\u001b[0m     import_optional_dependency(\u001b[38;5;124m\"\u001b[39m\u001b[38;5;124mpyarrow\u001b[39m\u001b[38;5;124m\"\u001b[39m)\n\u001b[1;32m---> 93\u001b[0m \u001b[38;5;28mself\u001b[39m\u001b[38;5;241m.\u001b[39m_reader \u001b[38;5;241m=\u001b[39m parsers\u001b[38;5;241m.\u001b[39mTextReader(src, \u001b[38;5;241m*\u001b[39m\u001b[38;5;241m*\u001b[39mkwds)\n\u001b[0;32m     95\u001b[0m \u001b[38;5;28mself\u001b[39m\u001b[38;5;241m.\u001b[39munnamed_cols \u001b[38;5;241m=\u001b[39m \u001b[38;5;28mself\u001b[39m\u001b[38;5;241m.\u001b[39m_reader\u001b[38;5;241m.\u001b[39munnamed_cols\n\u001b[0;32m     97\u001b[0m \u001b[38;5;66;03m# error: Cannot determine type of 'names'\u001b[39;00m\n",
      "File \u001b[1;32mparsers.pyx:574\u001b[0m, in \u001b[0;36mpandas._libs.parsers.TextReader.__cinit__\u001b[1;34m()\u001b[0m\n",
      "File \u001b[1;32mparsers.pyx:691\u001b[0m, in \u001b[0;36mpandas._libs.parsers.TextReader._get_header\u001b[1;34m()\u001b[0m\n",
      "\u001b[1;31mUnicodeDecodeError\u001b[0m: 'utf-8' codec can't decode byte 0xce in position 0: invalid continuation byte"
     ]
    }
   ],
   "source": [
    "# ini_df = pd.read_csv('data/anketa_ini.csv')\n",
    "ini_df = pd.read_csv('data/anketa_ini.csv', sep=';', encoding='utf-8')"
   ]
  },
  {
   "cell_type": "code",
   "execution_count": 43,
   "id": "b13ffbe8-d22c-426e-adf6-763460869aa6",
   "metadata": {},
   "outputs": [
    {
     "name": "stdout",
     "output_type": "stream",
     "text": [
      "<class 'pandas.core.frame.DataFrame'>\n",
      "RangeIndex: 322 entries, 0 to 321\n",
      "Data columns (total 14 columns):\n",
      " #   Column        Non-Null Count  Dtype \n",
      "---  ------        --------------  ----- \n",
      " 0   date          320 non-null    object\n",
      " 1   tg_id         322 non-null    object\n",
      " 2   timezone      322 non-null    object\n",
      " 3   stack         321 non-null    object\n",
      " 4   occupation    322 non-null    object\n",
      " 5   role          322 non-null    object\n",
      " 6   project_role  322 non-null    object\n",
      " 7   weekload      322 non-null    object\n",
      " 8   course        322 non-null    object\n",
      " 9   course_time   322 non-null    object\n",
      " 10  notes         99 non-null     object\n",
      " 11  pl            205 non-null    object\n",
      " 12  chat          322 non-null    object\n",
      " 13  exited        63 non-null     object\n",
      "dtypes: object(14)\n",
      "memory usage: 35.3+ KB\n"
     ]
    }
   ],
   "source": [
    "def map_names(old_list: list, new_list: list) -> dict:\n",
    "    dict_ = dict()\n",
    "    if len(old_list) == len(new_list):\n",
    "        for old_name, new_name in zip(old_list, new_list):\n",
    "            dict_[old_name] = new_name\n",
    "    return dict_\n",
    "\n",
    "ini_df.rename(columns=map_names(old_cols, new_cols), inplace=True)\n",
    "ini_df.info()"
   ]
  },
  {
   "cell_type": "code",
   "execution_count": 44,
   "id": "d3797b5a-7cd2-45a1-b0a9-7c02a00e2471",
   "metadata": {},
   "outputs": [
    {
     "data": {
      "text/plain": [
       "0      0.67\n",
       "1      0.16\n",
       "2      0.47\n",
       "3      0.69\n",
       "4      0.33\n",
       "       ... \n",
       "317    0.80\n",
       "318    0.42\n",
       "319    0.73\n",
       "320    0.85\n",
       "321    0.35\n",
       "Name: prediction, Length: 322, dtype: float64"
      ]
     },
     "metadata": {},
     "output_type": "display_data"
    }
   ],
   "source": [
    "from random import random\n",
    "ini_df['prediction'] = round(random(), 2)\n",
    "ini_df['prediction'] = ini_df['prediction'].apply(lambda x: round(random(), 2))\n",
    "display(ini_df.prediction)"
   ]
  },
  {
   "cell_type": "code",
   "execution_count": 45,
   "id": "15291bbe-fca0-4bcc-b7be-3eeede772e77",
   "metadata": {},
   "outputs": [],
   "source": [
    "with Session(ENGINE) as s_:\n",
    "    for index_ in range(ini_df.shape[0]):\n",
    "        tg_id_ = ini_df.tg_id.iloc[index_]\n",
    "        project_role_ = ini_df.project_role.iloc[index_]\n",
    "        prediction_ = ini_df.prediction.iloc[index_]\n",
    "        new_line_ = Model_Base(tg_id=tg_id_,\n",
    "                               project_role=project_role_,\n",
    "                               prediction=prediction_\n",
    "                              )\n",
    "        s_.add(new_line_)\n",
    "    s_.commit()\n"
   ]
  },
  {
   "cell_type": "code",
   "execution_count": 47,
   "id": "969a75ff-b29b-4ff1-8bb7-67280b3475a6",
   "metadata": {},
   "outputs": [],
   "source": [
    "output_list = []\n",
    "with Session(ENGINE) as t_:\n",
    "    all_predictions = t_.query(Model_Base).all()\n",
    "for student in all_predictions:\n",
    "    output_list.append({'tg_id': student.tg_id,\n",
    "                        'project_role': student.project_role,\n",
    "                        'prediction': student.prediction\n",
    "                      })\n",
    "##### print(output_list)"
   ]
  },
  {
   "cell_type": "code",
   "execution_count": null,
   "id": "0b254c96-9c78-4975-80a1-219b397e2f46",
   "metadata": {},
   "outputs": [],
   "source": []
  }
 ],
 "metadata": {
  "kernelspec": {
   "display_name": "Python 3 (ipykernel)",
   "language": "python",
   "name": "python3"
  },
  "language_info": {
   "codemirror_mode": {
    "name": "ipython",
    "version": 3
   },
   "file_extension": ".py",
   "mimetype": "text/x-python",
   "name": "python",
   "nbconvert_exporter": "python",
   "pygments_lexer": "ipython3",
   "version": "3.10.11"
  }
 },
 "nbformat": 4,
 "nbformat_minor": 5
}
